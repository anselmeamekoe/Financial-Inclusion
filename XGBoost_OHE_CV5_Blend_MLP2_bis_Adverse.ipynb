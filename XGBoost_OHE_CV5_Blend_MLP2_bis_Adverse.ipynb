{
 "cells": [
  {
   "cell_type": "markdown",
   "metadata": {},
   "source": [
    "# XGBoost Ensemble with Adversial validation ponderation "
   ]
  },
  {
   "cell_type": "markdown",
   "metadata": {},
   "source": [
    "## Instructions\n",
    " -  Datas are in the files Datasets\n",
    " - The final submission file is FinalSubmission.csv and will be generated after running this notebook"
   ]
  },
  {
   "cell_type": "markdown",
   "metadata": {
    "id": "HdPjBTFdkI7t"
   },
   "source": [
    "### Importing libraries"
   ]
  },
  {
   "cell_type": "code",
   "execution_count": 1,
   "metadata": {
    "id": "8IWFJK2h22yc"
   },
   "outputs": [],
   "source": [
    "# dataframe and plotting\n",
    "import os, sys, time\n",
    "import pandas as pd\n",
    "import numpy as np\n",
    "import seaborn as sns\n",
    "import matplotlib.pyplot as plt\n",
    "import warnings\n",
    "warnings.filterwarnings('ignore')"
   ]
  },
  {
   "cell_type": "code",
   "execution_count": 2,
   "metadata": {},
   "outputs": [],
   "source": [
    "from itertools import chain"
   ]
  },
  {
   "cell_type": "code",
   "execution_count": 3,
   "metadata": {},
   "outputs": [],
   "source": [
    "from sklearn.model_selection import train_test_split, KFold, StratifiedKFold\n",
    "from sklearn.preprocessing import LabelEncoder, OneHotEncoder, StandardScaler,MinMaxScaler\n",
    "from sklearn.metrics import roc_auc_score as AUC\n",
    "from sklearn.metrics import roc_auc_score, average_precision_score, accuracy_score,mean_absolute_error"
   ]
  },
  {
   "cell_type": "code",
   "execution_count": 4,
   "metadata": {},
   "outputs": [],
   "source": [
    "from xgboost import XGBClassifier"
   ]
  },
  {
   "cell_type": "code",
   "execution_count": 5,
   "metadata": {},
   "outputs": [],
   "source": [
    "#import optuna"
   ]
  },
  {
   "cell_type": "markdown",
   "metadata": {
    "id": "9SyQadB9iY8R"
   },
   "source": [
    "### 1. Load the dataset"
   ]
  },
  {
   "cell_type": "code",
   "execution_count": 6,
   "metadata": {
    "id": "MQCvC_XjDzyH"
   },
   "outputs": [],
   "source": [
    "# Load files into a pandas dataframe\n",
    "data_path= 'Datasets/'\n",
    "train = pd.read_csv(data_path+'Train.csv')\n",
    "test = pd.read_csv(data_path+'Test.csv')\n",
    "ss = pd.read_csv(data_path+'SampleSubmission.csv')\n",
    "variables = pd.read_csv(data_path+'VariableDefinitions.csv')"
   ]
  },
  {
   "cell_type": "code",
   "execution_count": 7,
   "metadata": {
    "colab": {
     "base_uri": "https://localhost:8080/"
    },
    "id": "O6xUUoJMaRrc",
    "outputId": "37fa6d78-0297-4468-85e2-68e658ab6d7b"
   },
   "outputs": [
    {
     "name": "stdout",
     "output_type": "stream",
     "text": [
      "train data shape : (23524, 13)\n",
      "test data shape : (10086, 12)\n"
     ]
    }
   ],
   "source": [
    "# Let’s observe the shape of our datasets.\n",
    "print('train data shape :', train.shape)\n",
    "print('test data shape :', test.shape)"
   ]
  },
  {
   "cell_type": "markdown",
   "metadata": {
    "id": "MCP0H7tSicUU"
   },
   "source": [
    "### 2. Dataset processing\n"
   ]
  },
  {
   "cell_type": "code",
   "execution_count": 8,
   "metadata": {},
   "outputs": [],
   "source": [
    "\n",
    "# Convert target label to numerical Data\n",
    "le = LabelEncoder()\n",
    "train['bank_account'] = le.fit_transform(train['bank_account'])\n",
    "\n",
    "#Separate training features from target\n",
    "X_train = train.drop(['bank_account'], axis=1)\n",
    "y_train = train['bank_account']\n",
    "\n"
   ]
  },
  {
   "cell_type": "code",
   "execution_count": 9,
   "metadata": {},
   "outputs": [],
   "source": [
    "# Pre-processing thanks to the starting notebook of the competition\n",
    "def preprocessing_data(data, data_test):\n",
    "    \n",
    "    # Convert the following numerical features from interger to float\n",
    "    data[[\"household_size\", \"age_of_respondent\" ]] = data[[\"household_size\", \"age_of_respondent\"]].values.astype(float)\n",
    "    data_test[[\"household_size\", \"age_of_respondent\"]] = data_test[[\"household_size\", \"age_of_respondent\"]].values.astype(float)\n",
    "    \n",
    "    # year here is categorical \n",
    "    data[[\"year\"]] = data[[\"year\"]].values.astype(str)\n",
    "    data_test[[\"year\"]] = data_test[[\"year\"]].values.astype(str)\n",
    "    \n",
    "    # categorical features to be onverted to One Hot Encoding (OHE)\n",
    "    categ = [\"year\",\n",
    "             \"relationship_with_head\",\n",
    "             \"marital_status\",\n",
    "             \"education_level\",\n",
    "             \"job_type\",\n",
    "             \"country\"\n",
    "            ]\n",
    "    ## we don't have hight so OHE should be enought\n",
    "    data = pd.get_dummies(data, prefix_sep=\"_\", columns=categ)\n",
    "    data_test = pd.get_dummies(data_test, prefix_sep=\"_\", columns=categ)\n",
    "    \n",
    "    # Label Encoder conversion for binary features\n",
    "    data[\"location_type\"] = le.fit_transform(data[\"location_type\"])\n",
    "    data[\"cellphone_access\"] = le.fit_transform(data[\"cellphone_access\"])\n",
    "    data[\"gender_of_respondent\"] = le.fit_transform(data[\"gender_of_respondent\"])\n",
    "    \n",
    "    data_test[\"location_type\"] = le.fit_transform(data_test[\"location_type\"])\n",
    "    data_test[\"cellphone_access\"] = le.fit_transform(data_test[\"cellphone_access\"])\n",
    "    data_test[\"gender_of_respondent\"] = le.fit_transform(data_test[\"gender_of_respondent\"])\n",
    "    \n",
    "    # drop uniquid column\n",
    "    data = data.drop([\"uniqueid\"], axis=1)\n",
    "    data_test = data_test.drop([\"uniqueid\"], axis=1)\n",
    "    \n",
    "    features = list(data_test.columns)\n",
    "    data_test = data_test[features]\n",
    "    \n",
    "    return features, data, data_test                 "
   ]
  },
  {
   "cell_type": "code",
   "execution_count": 10,
   "metadata": {},
   "outputs": [],
   "source": [
    "features, processed_train, processed_test = preprocessing_data(X_train, test)"
   ]
  },
  {
   "cell_type": "code",
   "execution_count": 11,
   "metadata": {},
   "outputs": [],
   "source": [
    "processed_train = processed_train.values\n",
    "processed_test = processed_test.values"
   ]
  },
  {
   "cell_type": "markdown",
   "metadata": {},
   "source": [
    "### Split data \n",
    "We use 5 Stratied Fold validation "
   ]
  },
  {
   "cell_type": "code",
   "execution_count": 12,
   "metadata": {},
   "outputs": [],
   "source": [
    "k =5\n",
    "Sf= StratifiedKFold(n_splits=k, shuffle=True, random_state= 42)\n",
    "datasets = [(processed_train[train_index], processed_train[test_index],y_train[train_index], y_train[test_index]) for train_index,test_index in Sf.split(processed_train, y_train) ]"
   ]
  },
  {
   "cell_type": "code",
   "execution_count": 13,
   "metadata": {},
   "outputs": [
    {
     "data": {
      "text/plain": [
       "[4705, 4705, 4705, 4705, 4704]"
      ]
     },
     "execution_count": 13,
     "metadata": {},
     "output_type": "execute_result"
    }
   ],
   "source": [
    "[len(X_test_) for X_train_, X_test_, Y_train_, Y_test_ in datasets]"
   ]
  },
  {
   "cell_type": "markdown",
   "metadata": {},
   "source": [
    "### 4. Model Building and Experiments"
   ]
  },
  {
   "cell_type": "code",
   "execution_count": 14,
   "metadata": {},
   "outputs": [],
   "source": [
    "static_params = {\n",
    "                 'random_state':42,\n",
    "                 'objective': 'binary:logistic',\n",
    "                 'n_jobs': -1\n",
    "\n",
    "}"
   ]
  },
  {
   "cell_type": "code",
   "execution_count": 15,
   "metadata": {},
   "outputs": [],
   "source": [
    "def builModel(opt_params):\n",
    "    # update with static params\n",
    "    opt_params.update(static_params)\n",
    "    model_xgb = XGBClassifier(**opt_params)\n",
    "    return model_xgb"
   ]
  },
  {
   "cell_type": "code",
   "execution_count": 16,
   "metadata": {},
   "outputs": [
    {
     "name": "stdout",
     "output_type": "stream",
     "text": [
      "Fold: 0 -------------------------\n",
      "epoch = 236--AUCROC perf = 0.866189 -- AUCPR perf = 0.57346\n",
      "Fold: 1 -------------------------\n",
      "epoch = 220--AUCROC perf = 0.863207 -- AUCPR perf = 0.586027\n",
      "Fold: 2 -------------------------\n",
      "epoch = 219--AUCROC perf = 0.874046 -- AUCPR perf = 0.616711\n",
      "Fold: 3 -------------------------\n",
      "epoch = 214--AUCROC perf = 0.860689 -- AUCPR perf = 0.569543\n",
      "Fold: 4 -------------------------\n",
      "epoch = 211--AUCROC perf = 0.863008 -- AUCPR perf = 0.579722\n",
      "End----- time  16.370975255966187 s\n"
     ]
    }
   ],
   "source": [
    "## run over all the data:\n",
    "exp_time = time.time()\n",
    "val_values = [] \n",
    "val_values_aucpr = []\n",
    "N_estimors = []\n",
    "pred_final_sum = np.zeros(len(test))\n",
    "preds_OOF = []\n",
    "y_true_00F = []\n",
    "pred_final = []\n",
    "Best_params = []\n",
    "adv_aucs = []\n",
    "for ind, (X_train_, X_test_, Y_train_, Y_test_) in enumerate(datasets):\n",
    "    print('Fold:', ind, '-------------------------')\n",
    "    if ind==0:\n",
    "        # Here our best Hyperparameters \n",
    "        best_p = {'eta': 0.05012583543681726, 'max_depth': 5, 'colsample_bytree': 0.7, 'subsample': 0.7, 'n_estimators': 1300, 'min_child_weight': 35}\n",
    "        Best_params.append(best_p)\n",
    "    \n",
    "    xgb_model = builModel(best_p)\n",
    "    eval_set = [(X_train_, Y_train_), (X_test_, Y_test_)] \n",
    "    xgb_model.fit(X_train_, Y_train_, eval_metric=['auc','aucpr'], eval_set=eval_set, verbose=0)\n",
    "    \n",
    "    n_estimors = np.argmax(xgb_model.evals_result_['validation_1']['auc'])\n",
    "    best_aucroc = xgb_model.evals_result_['validation_1']['auc'][n_estimors]\n",
    "    best_aurpr = xgb_model.evals_result_['validation_1']['aucpr'][n_estimors]\n",
    "    \n",
    "    preds_OOF_tmp = xgb_model.predict_proba(X_test_, ntree_limit = int(n_estimors))\n",
    "    preds_OOF.append(list(preds_OOF_tmp[:,1]))\n",
    "     \n",
    "    y_true_00F.append(list(Y_test_))\n",
    "    \n",
    "    pred_final_tmp = xgb_model.predict_proba(processed_test, ntree_limit = int(n_estimors))\n",
    "    pred_final.append(list(pred_final_tmp[:,1]))\n",
    "    pred_final_sum = pred_final_sum+pred_final_tmp[:,1]\n",
    "    N_estimors.append(n_estimors)\n",
    "    val_values.append(best_aucroc)\n",
    "    val_values_aucpr.append(best_aurpr)\n",
    "    \n",
    "    #### Adversarial check \n",
    "    \n",
    "    X = np.concatenate((X_train_, processed_test))\n",
    "    y = np.concatenate((np.zeros(len(X_train_)), np.ones(len(processed_test))) )\n",
    "    \n",
    "    best_p_adv = best_p\n",
    "    best_p_adv['n_estimators'] = n_estimors\n",
    "    xgb_model_adv = builModel(best_p_adv)\n",
    "    xgb_model_adv.fit(X, y, eval_metric=['auc'], eval_set=eval_set, verbose=0)\n",
    "    adv_aucs.append(max(xgb_model_adv.evals_result_['validation_0']['auc']))\n",
    " \n",
    "    \n",
    "    print(f\"epoch = {n_estimors}--AUCROC perf = {best_aucroc} -- AUCPR perf = {best_aurpr}\")\n",
    "    exp_time = time.time()-exp_time\n",
    "print('End----- time ',exp_time, 's')"
   ]
  },
  {
   "cell_type": "code",
   "execution_count": null,
   "metadata": {},
   "outputs": [],
   "source": []
  },
  {
   "cell_type": "code",
   "execution_count": null,
   "metadata": {},
   "outputs": [],
   "source": []
  },
  {
   "cell_type": "code",
   "execution_count": 17,
   "metadata": {},
   "outputs": [
    {
     "data": {
      "text/plain": [
       "[0.551212, 0.568535, 0.592413, 0.517135, 0.581008]"
      ]
     },
     "execution_count": 17,
     "metadata": {},
     "output_type": "execute_result"
    }
   ],
   "source": [
    "adv_aucs"
   ]
  },
  {
   "cell_type": "code",
   "execution_count": null,
   "metadata": {},
   "outputs": [],
   "source": []
  },
  {
   "cell_type": "markdown",
   "metadata": {},
   "source": [
    "### 5. Out Of Bag (OOF) validation performance "
   ]
  },
  {
   "cell_type": "code",
   "execution_count": 18,
   "metadata": {},
   "outputs": [],
   "source": [
    "preds_OOF_1d = np.array(list(chain(*preds_OOF)))\n",
    "y_true_00F_1d = np.array(list(chain(*y_true_00F)))"
   ]
  },
  {
   "cell_type": "code",
   "execution_count": 19,
   "metadata": {},
   "outputs": [
    {
     "data": {
      "text/plain": [
       "(0.8651001676910737, 0.5846929131304966)"
      ]
     },
     "execution_count": 19,
     "metadata": {},
     "output_type": "execute_result"
    }
   ],
   "source": [
    "AUC(y_true_00F_1d, preds_OOF_1d), average_precision_score(y_true_00F_1d, preds_OOF_1d)"
   ]
  },
  {
   "cell_type": "code",
   "execution_count": 20,
   "metadata": {},
   "outputs": [
    {
     "data": {
      "text/plain": [
       "0.16779583395950906"
      ]
     },
     "execution_count": 20,
     "metadata": {},
     "output_type": "execute_result"
    }
   ],
   "source": [
    "mean_absolute_error(y_true_00F_1d,preds_OOF_1d)"
   ]
  },
  {
   "cell_type": "code",
   "execution_count": null,
   "metadata": {},
   "outputs": [],
   "source": []
  },
  {
   "cell_type": "code",
   "execution_count": null,
   "metadata": {},
   "outputs": [],
   "source": []
  },
  {
   "cell_type": "markdown",
   "metadata": {},
   "source": [
    "### 6. Choice of the best tresh to convert probability to binary score "
   ]
  },
  {
   "cell_type": "code",
   "execution_count": 21,
   "metadata": {},
   "outputs": [],
   "source": [
    "treshs = np.arange(0.3, 0.6, 0.005)"
   ]
  },
  {
   "cell_type": "code",
   "execution_count": 22,
   "metadata": {},
   "outputs": [],
   "source": [
    "def Tresh_to_metric(y_true,pred_t, treshs):\n",
    "    res = list()\n",
    "    for tresh in treshs:\n",
    "        pred_tresh = (pred_t>tresh).astype(int)\n",
    "        res.append(mean_absolute_error(y_true,pred_tresh))\n",
    "    return res"
   ]
  },
  {
   "cell_type": "code",
   "execution_count": null,
   "metadata": {},
   "outputs": [],
   "source": []
  },
  {
   "cell_type": "code",
   "execution_count": 23,
   "metadata": {},
   "outputs": [],
   "source": [
    "ress = Tresh_to_metric(y_true_00F_1d, preds_OOF_1d,treshs)"
   ]
  },
  {
   "cell_type": "code",
   "execution_count": 24,
   "metadata": {},
   "outputs": [
    {
     "data": {
      "image/png": "[encoded data removed]",
      "text/plain": [
       "<Figure size 432x288 with 1 Axes>"
      ]
     },
     "metadata": {
      "needs_background": "light"
     },
     "output_type": "display_data"
    }
   ],
   "source": [
    "plt.scatter(treshs,ress);"
   ]
  },
  {
   "cell_type": "markdown",
   "metadata": {},
   "source": [
    "0.50 seems to be good threshold"
   ]
  },
  {
   "cell_type": "code",
   "execution_count": 25,
   "metadata": {},
   "outputs": [],
   "source": [
    "pred_tresh = (preds_OOF_1d>0.5).astype(int)"
   ]
  },
  {
   "cell_type": "code",
   "execution_count": 26,
   "metadata": {},
   "outputs": [
    {
     "data": {
      "text/plain": [
       "0.11133310661452134"
      ]
     },
     "execution_count": 26,
     "metadata": {},
     "output_type": "execute_result"
    }
   ],
   "source": [
    "mean_absolute_error(y_true_00F_1d,pred_tresh)"
   ]
  },
  {
   "cell_type": "code",
   "execution_count": 27,
   "metadata": {},
   "outputs": [
    {
     "data": {
      "image/png": "[encoded data removed]",
      "text/plain": [
       "<Figure size 432x288 with 1 Axes>"
      ]
     },
     "metadata": {
      "needs_background": "light"
     },
     "output_type": "display_data"
    }
   ],
   "source": [
    "plt.hist(preds_OOF_1d);"
   ]
  },
  {
   "cell_type": "markdown",
   "metadata": {},
   "source": [
    "### 6. Computation of ensemble ponderation coef"
   ]
  },
  {
   "cell_type": "code",
   "execution_count": 28,
   "metadata": {},
   "outputs": [],
   "source": [
    "coef = np.array(adv_aucs)"
   ]
  },
  {
   "cell_type": "code",
   "execution_count": 29,
   "metadata": {},
   "outputs": [
    {
     "data": {
      "text/plain": [
       "array([0.551212, 0.568535, 0.592413, 0.517135, 0.581008])"
      ]
     },
     "execution_count": 29,
     "metadata": {},
     "output_type": "execute_result"
    }
   ],
   "source": [
    "coef"
   ]
  },
  {
   "cell_type": "code",
   "execution_count": 30,
   "metadata": {},
   "outputs": [
    {
     "data": {
      "text/plain": [
       "array([0.20495438, 0.19704324, 0.18613854, 0.22051681, 0.19134702])"
      ]
     },
     "execution_count": 30,
     "metadata": {},
     "output_type": "execute_result"
    }
   ],
   "source": [
    "coefs = (1-coef)/(5-coef.sum())\n",
    "coefs"
   ]
  },
  {
   "cell_type": "code",
   "execution_count": null,
   "metadata": {},
   "outputs": [],
   "source": []
  },
  {
   "cell_type": "markdown",
   "metadata": {},
   "source": [
    "### 7. Final submission "
   ]
  },
  {
   "cell_type": "code",
   "execution_count": 31,
   "metadata": {},
   "outputs": [],
   "source": [
    "pred_f = np.zeros(len(processed_test))\n",
    "                  \n",
    "for i, coef in enumerate(list(coefs)):\n",
    "    pred_f += coef*np.array(pred_final[i])"
   ]
  },
  {
   "cell_type": "code",
   "execution_count": 32,
   "metadata": {},
   "outputs": [
    {
     "data": {
      "text/plain": [
       "array([0.82699703, 0.85949989, 0.0603744 , ..., 0.36065552, 0.0317991 ,\n",
       "       0.0670699 ])"
      ]
     },
     "execution_count": 32,
     "metadata": {},
     "output_type": "execute_result"
    }
   ],
   "source": [
    "pred_f"
   ]
  },
  {
   "cell_type": "code",
   "execution_count": 33,
   "metadata": {},
   "outputs": [],
   "source": [
    "pred_final_tresh = (pred_f>0.50).astype(int)"
   ]
  },
  {
   "cell_type": "code",
   "execution_count": 34,
   "metadata": {
    "id": "ELYl_OMUqRhR"
   },
   "outputs": [],
   "source": [
    "# Create submission DataFrame\n",
    "submission = pd.DataFrame({\"uniqueid\": test[\"uniqueid\"] + \" x \" + test[\"country\"],\n",
    "                           \"bank_account\": pred_final_tresh})"
   ]
  },
  {
   "cell_type": "markdown",
   "metadata": {
    "id": "KWsK-dHOqcIB"
   },
   "source": [
    "Let’s observe the sample results from our submission DataFrame.\n"
   ]
  },
  {
   "cell_type": "code",
   "execution_count": 35,
   "metadata": {
    "colab": {
     "base_uri": "https://localhost:8080/",
     "height": 206
    },
    "id": "VHhKw7ceqdD2",
    "outputId": "90eb4eab-a985-485a-98df-5f8aa8a19851"
   },
   "outputs": [
    {
     "data": {
      "text/html": [
       "<div>\n",
       "<style scoped>\n",
       "    .dataframe tbody tr th:only-of-type {\n",
       "        vertical-align: middle;\n",
       "    }\n",
       "\n",
       "    .dataframe tbody tr th {\n",
       "        vertical-align: top;\n",
       "    }\n",
       "\n",
       "    .dataframe thead th {\n",
       "        text-align: right;\n",
       "    }\n",
       "</style>\n",
       "<table border=\"1\" class=\"dataframe\">\n",
       "  <thead>\n",
       "    <tr style=\"text-align: right;\">\n",
       "      <th></th>\n",
       "      <th>uniqueid</th>\n",
       "      <th>bank_account</th>\n",
       "    </tr>\n",
       "  </thead>\n",
       "  <tbody>\n",
       "    <tr>\n",
       "      <th>6024</th>\n",
       "      <td>uniqueid_12159 x Rwanda</td>\n",
       "      <td>0</td>\n",
       "    </tr>\n",
       "    <tr>\n",
       "      <th>828</th>\n",
       "      <td>uniqueid_6897 x Kenya</td>\n",
       "      <td>0</td>\n",
       "    </tr>\n",
       "    <tr>\n",
       "      <th>553</th>\n",
       "      <td>uniqueid_6622 x Kenya</td>\n",
       "      <td>0</td>\n",
       "    </tr>\n",
       "    <tr>\n",
       "      <th>6597</th>\n",
       "      <td>uniqueid_6872 x Tanzania</td>\n",
       "      <td>0</td>\n",
       "    </tr>\n",
       "    <tr>\n",
       "      <th>7975</th>\n",
       "      <td>uniqueid_8250 x Tanzania</td>\n",
       "      <td>0</td>\n",
       "    </tr>\n",
       "  </tbody>\n",
       "</table>\n",
       "</div>"
      ],
      "text/plain": [
       "                      uniqueid  bank_account\n",
       "6024   uniqueid_12159 x Rwanda             0\n",
       "828      uniqueid_6897 x Kenya             0\n",
       "553      uniqueid_6622 x Kenya             0\n",
       "6597  uniqueid_6872 x Tanzania             0\n",
       "7975  uniqueid_8250 x Tanzania             0"
      ]
     },
     "execution_count": 35,
     "metadata": {},
     "output_type": "execute_result"
    }
   ],
   "source": [
    "#show the five sample\n",
    "submission.sample(5)"
   ]
  },
  {
   "cell_type": "markdown",
   "metadata": {
    "id": "CcOeN6Nkqkkw"
   },
   "source": [
    "Save results in the CSV file.\n"
   ]
  },
  {
   "cell_type": "code",
   "execution_count": 36,
   "metadata": {},
   "outputs": [],
   "source": [
    "# Create submission csv file csv file\n",
    "\n",
    "submission.to_csv('FinalSubmission.csv', index = False)"
   ]
  },
  {
   "cell_type": "markdown",
   "metadata": {},
   "source": [
    "### Please find my final solution in FinalSubmission.csv"
   ]
  },
  {
   "cell_type": "markdown",
   "metadata": {},
   "source": [
    "# Thank you!!!"
   ]
  },
  {
   "cell_type": "markdown",
   "metadata": {},
   "source": [
    "### Blend with MLP (TO DO)"
   ]
  },
  {
   "cell_type": "code",
   "execution_count": 37,
   "metadata": {
    "jupyter": {
     "source_hidden": true
    },
    "tags": []
   },
   "outputs": [],
   "source": [
    "# mlp = pd.read_csv('Submissions/MLP2_CV_Tresh_bis_advserse.csv')\n",
    "\n",
    "# pred_all = (submission_raw.bank_account+mlp.bank_account)/2\n",
    "# pred_all = pred_all.values\n",
    "\n",
    "# pred_final_tresh_all = (pred_all>0.46).astype(int)\n",
    "\n",
    "# submission_all = pd.DataFrame({\"uniqueid\": test[\"uniqueid\"] + \" x \" + test[\"country\"],\n",
    "#                            \"bank_account\": pred_final_tresh_all})"
   ]
  },
  {
   "cell_type": "code",
   "execution_count": 150,
   "metadata": {},
   "outputs": [],
   "source": []
  },
  {
   "cell_type": "code",
   "execution_count": 151,
   "metadata": {},
   "outputs": [],
   "source": []
  },
  {
   "cell_type": "code",
   "execution_count": null,
   "metadata": {},
   "outputs": [],
   "source": []
  },
  {
   "cell_type": "code",
   "execution_count": null,
   "metadata": {},
   "outputs": [],
   "source": []
  },
  {
   "cell_type": "code",
   "execution_count": 77,
   "metadata": {},
   "outputs": [],
   "source": []
  },
  {
   "cell_type": "code",
   "execution_count": null,
   "metadata": {},
   "outputs": [],
   "source": []
  }
 ],
 "metadata": {
  "colab": {
   "collapsed_sections": [],
   "name": "StarterNotebook.ipynb",
   "provenance": [],
   "toc_visible": true
  },
  "kernelspec": {
   "display_name": "Python 3 (ipykernel)",
   "language": "python",
   "name": "python3"
  },
  "language_info": {
   "codemirror_mode": {
    "name": "ipython",
    "version": 3
   },
   "file_extension": ".py",
   "mimetype": "text/x-python",
   "name": "python",
   "nbconvert_exporter": "python",
   "pygments_lexer": "ipython3",
   "version": "3.9.12"
  }
 },
 "nbformat": 4,
 "nbformat_minor": 4
}
