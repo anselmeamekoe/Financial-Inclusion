{
 "cells": [
  {
   "cell_type": "markdown",
   "metadata": {
    "id": "48S6RVt_jXwp"
   },
   "source": [
    "# Simple MLP model. "
   ]
  },
  {
   "cell_type": "code",
   "execution_count": 86,
   "metadata": {
    "id": "8IWFJK2h22yc"
   },
   "outputs": [],
   "source": [
    "import os, sys, time\n",
    "\n",
    "import pandas as pd\n",
    "import numpy as np\n",
    "import seaborn as sns\n",
    "import matplotlib.pyplot as plt\n",
    "import warnings\n",
    "warnings.filterwarnings('ignore')"
   ]
  },
  {
   "cell_type": "code",
   "execution_count": 90,
   "metadata": {},
   "outputs": [],
   "source": [
    "from sklearn.model_selection import train_test_split, KFold, StratifiedKFold\n",
    "from sklearn.preprocessing import LabelEncoder, OneHotEncoder, StandardScaler, MinMaxScaler\n",
    "from sklearn.metrics import roc_auc_score as AUC\n",
    "from sklearn.metrics import roc_auc_score, average_precision_score, accuracy_score,mean_absolute_error"
   ]
  },
  {
   "cell_type": "code",
   "execution_count": null,
   "metadata": {},
   "outputs": [],
   "source": [
    "from itertools import chain"
   ]
  },
  {
   "cell_type": "code",
   "execution_count": 95,
   "metadata": {},
   "outputs": [],
   "source": [
    "\n",
    "\n",
    "import torch\n",
    "import torch.nn as nn\n",
    "import torch.nn.functional as F\n",
    "import torch.optim as optim \n",
    "from torch.nn import Linear\n",
    "\n"
   ]
  },
  {
   "cell_type": "code",
   "execution_count": 96,
   "metadata": {},
   "outputs": [],
   "source": [
    "import optuna"
   ]
  },
  {
   "cell_type": "code",
   "execution_count": 88,
   "metadata": {
    "id": "MQCvC_XjDzyH"
   },
   "outputs": [],
   "source": [
    "# Load files into a pandas dataframe\n",
    "data_path= 'Datasets/'\n",
    "train = pd.read_csv(data_path+'Train.csv')\n",
    "test = pd.read_csv(data_path+'Test.csv')\n",
    "ss = pd.read_csv(data_path+'SampleSubmission.csv')\n",
    "variables = pd.read_csv(data_path+'VariableDefinitions.csv')"
   ]
  },
  {
   "cell_type": "code",
   "execution_count": 89,
   "metadata": {
    "colab": {
     "base_uri": "https://localhost:8080/"
    },
    "id": "KDu51_TBceft",
    "outputId": "bc1a4302-34e9-4107-8a69-00d59e1f77d4"
   },
   "outputs": [
    {
     "name": "stdout",
     "output_type": "stream",
     "text": [
      "0        1\n",
      "1        0\n",
      "2        1\n",
      "3        0\n",
      "4        0\n",
      "        ..\n",
      "23519    0\n",
      "23520    0\n",
      "23521    0\n",
      "23522    0\n",
      "23523    0\n",
      "Name: bank_account, Length: 23524, dtype: int64\n"
     ]
    }
   ],
   "source": [
    "\n",
    "# Cobvert target label to numerical Data\n",
    "le = LabelEncoder()\n",
    "train['bank_account'] = le.fit_transform(train['bank_account'])\n",
    "\n",
    "#Separate training features from target\n",
    "X_train = train.drop(['bank_account'], axis=1)\n",
    "y_train = train['bank_account']\n",
    "\n",
    "print(y_train)"
   ]
  },
  {
   "cell_type": "code",
   "execution_count": null,
   "metadata": {},
   "outputs": [],
   "source": []
  },
  {
   "cell_type": "code",
   "execution_count": 36,
   "metadata": {},
   "outputs": [],
   "source": []
  },
  {
   "cell_type": "code",
   "execution_count": 91,
   "metadata": {
    "id": "5nLXAW5hdYOk"
   },
   "outputs": [],
   "source": [
    "def preprocessing_data(data, data_test):\n",
    "\n",
    "    data[[\"household_size\", \"age_of_respondent\" ]] = data[[\"household_size\", \"age_of_respondent\"]].values.astype(float)\n",
    "    data_test[[\"household_size\", \"age_of_respondent\"]] = data_test[[\"household_size\", \"age_of_respondent\"]].values.astype(float)\n",
    "    \n",
    "    data[[\"year\"]] = data[[\"year\"]].values.astype(str)\n",
    "    data_test[[\"year\"]] = data_test[[\"year\"]].values.astype(str)\n",
    "    categ = [\"year\",\n",
    "             \"relationship_with_head\",\n",
    "             \"marital_status\",\n",
    "             \"education_level\",\n",
    "             \"job_type\",\n",
    "             \"country\"\n",
    "            ]\n",
    "\n",
    "    \n",
    "    data = pd.get_dummies(data, prefix_sep=\"_\", columns=categ)\n",
    "    data_test = pd.get_dummies(data_test, prefix_sep=\"_\", columns=categ)\n",
    "    \n",
    "    # Label Encoder conversion\n",
    "    data[\"location_type\"] = le.fit_transform(data[\"location_type\"])\n",
    "    data[\"cellphone_access\"] = le.fit_transform(data[\"cellphone_access\"])\n",
    "    data[\"gender_of_respondent\"] = le.fit_transform(data[\"gender_of_respondent\"])\n",
    "    \n",
    "    data_test[\"location_type\"] = le.fit_transform(data_test[\"location_type\"])\n",
    "    data_test[\"cellphone_access\"] = le.fit_transform(data_test[\"cellphone_access\"])\n",
    "    data_test[\"gender_of_respondent\"] = le.fit_transform(data_test[\"gender_of_respondent\"])\n",
    "    \n",
    "    # drop uniquid column\n",
    "    data = data.drop([\"uniqueid\"], axis=1)\n",
    "    data_test = data_test.drop([\"uniqueid\"], axis=1)\n",
    "    \n",
    "    features = list(data_test.columns)\n",
    "    data_test = data_test[features]\n",
    "    \n",
    "    # scale our data into range of 0 and 1\n",
    "    scaler = MinMaxScaler(feature_range=(0, 1))\n",
    "    data = scaler.fit_transform(data)\n",
    "    data_test = scaler.transform(data_test)\n",
    "    \n",
    "    return features, data, data_test                 "
   ]
  },
  {
   "cell_type": "code",
   "execution_count": 92,
   "metadata": {
    "id": "eNdoBGhgdYdQ"
   },
   "outputs": [],
   "source": [
    "\n",
    "features, processed_train, processed_test = preprocessing_data(X_train, test)"
   ]
  },
  {
   "cell_type": "code",
   "execution_count": 93,
   "metadata": {},
   "outputs": [
    {
     "data": {
      "text/plain": [
       "(23524, 39)"
      ]
     },
     "execution_count": 93,
     "metadata": {},
     "output_type": "execute_result"
    }
   ],
   "source": [
    "processed_train.shape"
   ]
  },
  {
   "cell_type": "code",
   "execution_count": 94,
   "metadata": {},
   "outputs": [
    {
     "data": {
      "text/plain": [
       "(10086, 39)"
      ]
     },
     "execution_count": 94,
     "metadata": {},
     "output_type": "execute_result"
    }
   ],
   "source": [
    "processed_test.shape"
   ]
  },
  {
   "cell_type": "code",
   "execution_count": 97,
   "metadata": {},
   "outputs": [],
   "source": [
    "k =5\n",
    "Sf= StratifiedKFold(n_splits=k, shuffle=True, random_state= 42)\n",
    "datasets = [(processed_train[train_index], processed_train[test_index],y_train[train_index], y_train[test_index]) for train_index,test_index in Sf.split(processed_train, y_train) ]"
   ]
  },
  {
   "cell_type": "code",
   "execution_count": 98,
   "metadata": {
    "colab": {
     "base_uri": "https://localhost:8080/"
    },
    "id": "hwZVZ4cGdmTP",
    "outputId": "15e18896-281a-4dcc-9b07-b85da0757322"
   },
   "outputs": [
    {
     "name": "stdout",
     "output_type": "stream",
     "text": [
      "(23524, 39)\n"
     ]
    }
   ],
   "source": [
    "# shape of the processed train set\n",
    "print(processed_train.shape)"
   ]
  },
  {
   "cell_type": "markdown",
   "metadata": {
    "id": "RmPQteHwk4hS",
    "tags": []
   },
   "source": [
    "###  Model Building and Experiments\n"
   ]
  },
  {
   "cell_type": "markdown",
   "metadata": {},
   "source": [
    "#### Setup and utils"
   ]
  },
  {
   "cell_type": "code",
   "execution_count": 100,
   "metadata": {},
   "outputs": [],
   "source": [
    "n_features,n_classes = processed_train.shape[1],2"
   ]
  },
  {
   "cell_type": "code",
   "execution_count": 101,
   "metadata": {},
   "outputs": [],
   "source": [
    "static_params = {'dim_input':n_features,\n",
    "                 'dim_output':1,\n",
    "                 'n_head':1,\n",
    "                 'get_attention':False,\n",
    "                 'bias':True,\n",
    "                 'activation':nn.ReLU(),\n",
    "                 'SEED':42,\n",
    "                 'device':torch.device(\"cuda:0\" if torch.cuda.is_available() else \"cpu\"),\n",
    "                 #'batch_size':256\n",
    "}"
   ]
  },
  {
   "cell_type": "code",
   "execution_count": 102,
   "metadata": {},
   "outputs": [
    {
     "data": {
      "text/plain": [
       "device(type='cuda', index=0)"
      ]
     },
     "execution_count": 102,
     "metadata": {},
     "output_type": "execute_result"
    }
   ],
   "source": [
    "device = torch.device(\"cuda:0\" if torch.cuda.is_available() else \"cpu\")\n",
    "device\n"
   ]
  },
  {
   "cell_type": "code",
   "execution_count": 103,
   "metadata": {},
   "outputs": [],
   "source": [
    "def reset_seed_(seed):\n",
    "    # Resetting SEED to fair comparison of results\n",
    "    os.environ[\"PYTHONHASHSEED\"]=str(seed)\n",
    "    torch.manual_seed(seed)\n",
    "    torch.cuda.manual_seed(seed)\n",
    "    np.random.seed(seed)"
   ]
  },
  {
   "cell_type": "code",
   "execution_count": 104,
   "metadata": {},
   "outputs": [],
   "source": [
    "def save(Model, path):\n",
    "    state = {\n",
    "        'state_dict':Model.state_dict()\n",
    "    }\n",
    "    dir_path = os.path.dirname(path)\n",
    "    os.makedirs(dir_path, exist_ok=True)\n",
    "    torch.save(state, path) "
   ]
  },
  {
   "cell_type": "code",
   "execution_count": 105,
   "metadata": {},
   "outputs": [],
   "source": [
    "def load(Model, path):\n",
    "    state = torch.load(path)\n",
    "    Model.load_state_dict(state['state_dict'])\n",
    "    return Model"
   ]
  },
  {
   "cell_type": "code",
   "execution_count": 54,
   "metadata": {},
   "outputs": [],
   "source": [
    "\n",
    "def TrainModel(Model, \n",
    "               train_set,\n",
    "               test_set,\n",
    "               save_path,\n",
    "               device = device,\n",
    "               epochs= 2000,\n",
    "               batch_size = 2000,\n",
    "               lr = 1e-2 , \n",
    "               eval_every = 100,\n",
    "               weight_decay = 0.1,\n",
    "               verbose = 1\n",
    "              ):\n",
    "    \n",
    "    optimizer = optim.Adam(Model.parameters(), lr = lr, weight_decay = weight_decay )\n",
    "    #DNN_criterion = nn.MSELoss().to(device)\n",
    "    criterion = nn.BCELoss().to(device)\n",
    "    train_loader = torch.utils.data.DataLoader(train_set, batch_size = batch_size, drop_last = False, shuffle = True) \n",
    "    #with tqdm(total = epochs, desc='Epoch', bar_format=\"{l_bar}{bar:10}{r_bar}{bar:-10b}\")as t:\n",
    "    AUC_s = []\n",
    "    AUCPR_s = []\n",
    "    best_perf = 0\n",
    "    for epoch in range(epochs):\n",
    "\n",
    "        #total_epoch = 0\n",
    "        Model.to(device)\n",
    "        Model.train()\n",
    "        \n",
    "\n",
    "        #batch_losses = []\n",
    "        #batch_correct = 0\n",
    "        for index, (x_batch, y_batch) in enumerate(train_loader):\n",
    "\n",
    "            #total_epoch += y_batch.size(0)\n",
    "\n",
    "            x_batch = x_batch.to(device)\n",
    "            y_batch = y_batch.to(device)\n",
    "            \n",
    "            if Model.get_attention:\n",
    "                att, out  = Model(x_batch)\n",
    "            else:\n",
    "                out  = Model(x_batch)\n",
    "            #loss = criterion(out, y_batch.reshape(out.size()))\n",
    "            loss = criterion(out, y_batch.reshape(out.size()))\n",
    "            optimizer.zero_grad()\n",
    "            loss.backward()\n",
    "            optimizer.step()\n",
    "\n",
    "        #Evalution on the test set \n",
    "        \n",
    "        if epoch%eval_every==0:\n",
    "            Model.eval()\n",
    "            #model.to('cpu')\n",
    "            Xtest = test_set[:][0].to(device)\n",
    "            with torch.no_grad():\n",
    "                if Model.get_attention:\n",
    "                    att, pred_test = Model(Xtest)\n",
    "                    pred_test = pred_test.to('cpu').numpy().ravel()\n",
    "                else:\n",
    "                    pred_test = Model(Xtest).to('cpu').numpy().ravel()\n",
    "\n",
    "                test_auc  = AUC(test_set[:][1].numpy(), pred_test)\n",
    "                test_result =  average_precision_score(test_set[:][1].numpy(), pred_test) # AUC(pred, test_set[:][1].reshape(pred.size()) )\n",
    "            AUC_s.append(test_auc)\n",
    "            AUCPR_s.append(test_result)\n",
    "            \n",
    "            # Checkpoint for the best model \n",
    "            if test_auc>best_perf:\n",
    "                best_perf = test_auc\n",
    "                best_model = Model \n",
    "                save(Model, save_path)\n",
    "            if verbose:\n",
    "                print(f\"epoch = {epoch}--AUCROC perf = {test_auc} -- AUCPR perf = {test_result}\")\n",
    "    return AUC_s,AUCPR_s, best_model"
   ]
  },
  {
   "cell_type": "code",
   "execution_count": 55,
   "metadata": {},
   "outputs": [],
   "source": [
    "class DNN(nn.Module):\n",
    "    def __init__(self,\n",
    "                 dim_input,\n",
    "                 dim_hidden,\n",
    "                 dim_output,\n",
    "                 bias = True,\n",
    "                 activation = nn.ReLU(),#,\n",
    "                 #n_hidden = 2\n",
    "                 dropout_rate = 0.0\n",
    "    ):\n",
    "        super(DNN, self).__init__()\n",
    "\n",
    "        # we don't have attention for this model\n",
    "        self.get_attention = False\n",
    "        \n",
    "        #self.n_hidden = n_hidden\n",
    "        self.fc1 = nn.Linear(dim_input, dim_hidden*4, bias =bias)\n",
    "        self.fc2 = nn.Linear(dim_hidden*4,dim_hidden*2, bias =bias)\n",
    "        \n",
    "        self.linear = nn.Linear(dim_hidden*2,dim_output, bias =bias)\n",
    "        self.activation = activation # nn.Sigmoid() #nn.ReLU()\n",
    "        \n",
    "        self.dropout = nn.Dropout(dropout_rate)\n",
    "        self.sigmoid = nn.Sigmoid()\n",
    "    def forward(self, out):\n",
    "        \n",
    "\n",
    "        out = self.fc1(out)\n",
    "        out = self.activation(out)\n",
    "        out  = self.dropout(out)\n",
    "        \n",
    "        out = self.fc2(out)\n",
    "        out = self.activation(out)\n",
    "        out  = self.dropout(out)\n",
    "\n",
    "        out = self.linear(out)\n",
    "        return self.sigmoid(out)"
   ]
  },
  {
   "cell_type": "code",
   "execution_count": 56,
   "metadata": {},
   "outputs": [],
   "source": [
    "\n",
    "def predict(model, Xtest):\n",
    "    model.eval()\n",
    "    #model.to('cpu')\n",
    "    Xtest = Xtest.to(device)\n",
    "    with torch.no_grad():\n",
    "        if model.get_attention:\n",
    "            att, pred_test = model(Xtest)\n",
    "            pred_test = pred_test.to('cpu').numpy().ravel()\n",
    "            att = att.to('cpu').numpy()\n",
    "            return att, pred_test\n",
    "        else:\n",
    "            pred_test = model(Xtest).to('cpu').numpy().ravel()\n",
    "            return pred_test"
   ]
  },
  {
   "cell_type": "code",
   "execution_count": 57,
   "metadata": {},
   "outputs": [],
   "source": [
    "def builModel_SimpleDNN(opt_params):\n",
    "    Model = DNN(dim_input = static_params['dim_input'],\n",
    "                dim_hidden=static_params['dim_input'],\n",
    "                dim_output=static_params['dim_output'],\n",
    "                dropout_rate = opt_params['dropout_rate']\n",
    "               )\n",
    "    return Model"
   ]
  },
  {
   "cell_type": "code",
   "execution_count": 58,
   "metadata": {},
   "outputs": [],
   "source": [
    "\n",
    "def TrainValidateModel(opt_params, Model):\n",
    "    optimizer = optim.Adam(Model.parameters(), lr = opt_params['lr'], weight_decay = opt_params['weight_decay'] )\n",
    "    \n",
    "    device = static_params['device']\n",
    "    criterion = nn.BCELoss().to(device)\n",
    "    \n",
    "    train_loader = torch.utils.data.DataLoader(train_set, batch_size = opt_params['batch_size'], drop_last = False, shuffle = True) \n",
    "    for epoch in range(opt_params['epochs']):\n",
    "\n",
    "        Model.to(device)\n",
    "        Model.train()\n",
    "        for index, (x_batch, y_batch) in enumerate(train_loader):\n",
    "\n",
    "            x_batch = x_batch.to(device)\n",
    "            y_batch = y_batch.to(device)\n",
    "            \n",
    "            if Model.get_attention:\n",
    "                att, out  = Model(x_batch)\n",
    "            else:\n",
    "                out  = Model(x_batch)\n",
    "                \n",
    "            loss = criterion(out, y_batch.reshape(out.size()))\n",
    "            optimizer.zero_grad()\n",
    "            loss.backward()\n",
    "            optimizer.step()\n",
    "\n",
    "    #Evalution on the val set \n",
    "    Model.eval()\n",
    "    #Model.to('cpu')\n",
    "    Xval = val_set[:][0].to(device)\n",
    "    with torch.no_grad():\n",
    "        if Model.get_attention:\n",
    "            att, pred_val = Model(Xval)\n",
    "            pred_val = pred_val.to('cpu').numpy().ravel()\n",
    "        else:\n",
    "            pred_val = Model(Xval).to('cpu').numpy().ravel()\n",
    "        val_result =  AUC(val_set[:][1].numpy(), pred_val) # AUC(pred, test_set[:][1].reshape(pred.size()) ) # average_precision_score\n",
    "    return val_result "
   ]
  },
  {
   "cell_type": "code",
   "execution_count": 59,
   "metadata": {},
   "outputs": [],
   "source": [
    "def ReTrain(opt_params, Model):\n",
    "    optimizer = optim.Adam(Model.parameters(), lr = opt_params['lr'], weight_decay = opt_params['weight_decay'] )\n",
    "    \n",
    "    device = static_params['device']\n",
    "    criterion = nn.BCELoss().to(device)\n",
    "    \n",
    "    train_loader = torch.utils.data.DataLoader(train_set, batch_size = opt_params['batch_size'], drop_last = False, shuffle = True) \n",
    "    for epoch in range(opt_params['epochs']):\n",
    "\n",
    "        Model.to(device)\n",
    "        Model.train()\n",
    "        for index, (x_batch, y_batch) in enumerate(train_loader):\n",
    "\n",
    "            x_batch = x_batch.to(device)\n",
    "            y_batch = y_batch.to(device)\n",
    "            \n",
    "            if Model.get_attention:\n",
    "                att, out  = Model(x_batch)\n",
    "            else:\n",
    "                out  = Model(x_batch)\n",
    "                \n",
    "            loss = criterion(out, y_batch.reshape(out.size()))\n",
    "            optimizer.zero_grad()\n",
    "            loss.backward()\n",
    "            optimizer.step()\n",
    "\n",
    "    return Model"
   ]
  },
  {
   "cell_type": "code",
   "execution_count": 64,
   "metadata": {},
   "outputs": [],
   "source": [
    "def objective_SimpleDNN(trial):\n",
    "    \n",
    "    params = {\n",
    "          'lr': trial.suggest_float('lr', 1e-4, 1e-2),\n",
    "          'dropout_rate': trial.suggest_discrete_uniform('dropout_rate', 0.0, 0.5, 0.1),\n",
    "          'epochs': trial.suggest_int(\"epochs\",100, 500, step = 100 ),\n",
    "          'weight_decay': trial.suggest_float('weight_decay',1e-6, 1e-3),\n",
    "          'batch_size':trial.suggest_int(\"batch_size\",256, 1024, step = 256 )\n",
    "          }\n",
    "\n",
    "    model = builModel_SimpleDNN(params)\n",
    "    \n",
    "    val_auc = TrainValidateModel(params, model)\n",
    "    return val_auc"
   ]
  },
  {
   "cell_type": "code",
   "execution_count": null,
   "metadata": {},
   "outputs": [],
   "source": []
  },
  {
   "cell_type": "code",
   "execution_count": null,
   "metadata": {},
   "outputs": [],
   "source": []
  },
  {
   "cell_type": "code",
   "execution_count": 66,
   "metadata": {},
   "outputs": [
    {
     "name": "stderr",
     "output_type": "stream",
     "text": [
      "\u001b[32m[I 2022-12-13 16:37:58,313]\u001b[0m A new study created in memory with name: no-name-8b01e2fa-f5fd-45e1-8cae-692358163c93\u001b[0m\n"
     ]
    },
    {
     "name": "stdout",
     "output_type": "stream",
     "text": [
      "Fold: 0 -------------------------\n"
     ]
    },
    {
     "name": "stderr",
     "output_type": "stream",
     "text": [
      "\u001b[32m[I 2022-12-13 16:39:20,360]\u001b[0m Trial 0 finished with value: 0.8642854850614551 and parameters: {'lr': 0.003807947176588889, 'dropout_rate': 0.5, 'epochs': 400, 'weight_decay': 0.0005990598257128397, 'batch_size': 256}. Best is trial 0 with value: 0.8642854850614551.\u001b[0m\n",
      "\u001b[32m[I 2022-12-13 16:40:23,407]\u001b[0m Trial 1 finished with value: 0.8516295339359052 and parameters: {'lr': 0.0016443457513284064, 'dropout_rate': 0.0, 'epochs': 500, 'weight_decay': 0.0006015138967314657, 'batch_size': 768}. Best is trial 0 with value: 0.8642854850614551.\u001b[0m\n",
      "\u001b[32m[I 2022-12-13 16:42:00,404]\u001b[0m Trial 2 finished with value: 0.859606111694478 and parameters: {'lr': 0.00030378649352844425, 'dropout_rate': 0.5, 'epochs': 500, 'weight_decay': 0.0002131267715675979, 'batch_size': 256}. Best is trial 0 with value: 0.8642854850614551.\u001b[0m\n",
      "\u001b[32m[I 2022-12-13 16:42:32,863]\u001b[0m Trial 3 finished with value: 0.8517440927575689 and parameters: {'lr': 0.001915704647548995, 'dropout_rate': 0.1, 'epochs': 300, 'weight_decay': 0.00043251307362347373, 'batch_size': 512}. Best is trial 0 with value: 0.8642854850614551.\u001b[0m\n",
      "\u001b[32m[I 2022-12-13 16:42:58,101]\u001b[0m Trial 4 finished with value: 0.8576216693048779 and parameters: {'lr': 0.006157343657751557, 'dropout_rate': 0.0, 'epochs': 200, 'weight_decay': 0.00036699548145039805, 'batch_size': 512}. Best is trial 0 with value: 0.8642854850614551.\u001b[0m\n",
      "\u001b[32m[I 2022-12-13 16:43:53,851]\u001b[0m Trial 5 finished with value: 0.8634734981039954 and parameters: {'lr': 0.007873242017790836, 'dropout_rate': 0.1, 'epochs': 300, 'weight_decay': 0.0005928221542931806, 'batch_size': 256}. Best is trial 0 with value: 0.8642854850614551.\u001b[0m\n",
      "\u001b[32m[I 2022-12-13 16:44:04,212]\u001b[0m Trial 6 finished with value: 0.8588702485142803 and parameters: {'lr': 0.006114694033824241, 'dropout_rate': 0.1, 'epochs': 100, 'weight_decay': 0.00094893665171608, 'batch_size': 1024}. Best is trial 0 with value: 0.8642854850614551.\u001b[0m\n",
      "\u001b[32m[I 2022-12-13 16:44:16,289]\u001b[0m Trial 7 finished with value: 0.8617424284828308 and parameters: {'lr': 0.008103133746352966, 'dropout_rate': 0.1, 'epochs': 100, 'weight_decay': 0.0006845487934856448, 'batch_size': 512}. Best is trial 0 with value: 0.8642854850614551.\u001b[0m\n",
      "\u001b[32m[I 2022-12-13 16:44:28,324]\u001b[0m Trial 8 finished with value: 0.8649838460866781 and parameters: {'lr': 0.0013081785249633106, 'dropout_rate': 0.2, 'epochs': 100, 'weight_decay': 0.0009094110816767034, 'batch_size': 512}. Best is trial 8 with value: 0.8649838460866781.\u001b[0m\n",
      "\u001b[32m[I 2022-12-13 16:45:25,886]\u001b[0m Trial 9 finished with value: 0.8632063185720373 and parameters: {'lr': 0.006658970615104422, 'dropout_rate': 0.1, 'epochs': 300, 'weight_decay': 0.0005471635690639364, 'batch_size': 256}. Best is trial 8 with value: 0.8649838460866781.\u001b[0m\n",
      "\u001b[32m[I 2022-12-13 16:45:48,594]\u001b[0m Trial 10 finished with value: 0.8629098463120642 and parameters: {'lr': 0.0038079400180947047, 'dropout_rate': 0.30000000000000004, 'epochs': 200, 'weight_decay': 0.0009550137650661385, 'batch_size': 768}. Best is trial 8 with value: 0.8649838460866781.\u001b[0m\n",
      "\u001b[32m[I 2022-12-13 16:47:05,380]\u001b[0m Trial 11 finished with value: 0.8589098030259947 and parameters: {'lr': 0.0038040950725390953, 'dropout_rate': 0.4, 'epochs': 400, 'weight_decay': 0.0007838459915278679, 'batch_size': 256}. Best is trial 8 with value: 0.8649838460866781.\u001b[0m\n",
      "\u001b[32m[I 2022-12-13 16:47:54,822]\u001b[0m Trial 12 finished with value: 0.8638429223171779 and parameters: {'lr': 0.003529230868971513, 'dropout_rate': 0.30000000000000004, 'epochs': 400, 'weight_decay': 0.0007912140791411065, 'batch_size': 512}. Best is trial 8 with value: 0.8649838460866781.\u001b[0m\n",
      "\u001b[32m[I 2022-12-13 16:48:40,432]\u001b[0m Trial 13 finished with value: 0.844482481456024 and parameters: {'lr': 0.0016838015489969126, 'dropout_rate': 0.5, 'epochs': 400, 'weight_decay': 4.973037828959214e-05, 'batch_size': 768}. Best is trial 8 with value: 0.8649838460866781.\u001b[0m\n",
      "\u001b[32m[I 2022-12-13 16:49:19,402]\u001b[0m Trial 14 finished with value: 0.8629286906784942 and parameters: {'lr': 0.002757187745355984, 'dropout_rate': 0.2, 'epochs': 200, 'weight_decay': 0.0008068586274908179, 'batch_size': 256}. Best is trial 8 with value: 0.8649838460866781.\u001b[0m\n",
      "\u001b[32m[I 2022-12-13 16:49:31,740]\u001b[0m Trial 15 finished with value: 0.8636268651258319 and parameters: {'lr': 0.009660376296875538, 'dropout_rate': 0.4, 'epochs': 100, 'weight_decay': 0.00025569407018074305, 'batch_size': 512}. Best is trial 8 with value: 0.8649838460866781.\u001b[0m\n",
      "\u001b[32m[I 2022-12-13 16:50:13,803]\u001b[0m Trial 16 finished with value: 0.8630342937616565 and parameters: {'lr': 0.00012771838403994912, 'dropout_rate': 0.2, 'epochs': 400, 'weight_decay': 0.0009909821113687283, 'batch_size': 1024}. Best is trial 8 with value: 0.8649838460866781.\u001b[0m\n",
      "\u001b[32m[I 2022-12-13 16:50:51,882]\u001b[0m Trial 17 finished with value: 0.8621420783134552 and parameters: {'lr': 0.0047155845223723035, 'dropout_rate': 0.4, 'epochs': 200, 'weight_decay': 0.0007288369157315781, 'batch_size': 256}. Best is trial 8 with value: 0.8649838460866781.\u001b[0m\n",
      "\u001b[32m[I 2022-12-13 16:51:52,548]\u001b[0m Trial 18 finished with value: 0.8637238856262637 and parameters: {'lr': 0.002744703047343309, 'dropout_rate': 0.30000000000000004, 'epochs': 500, 'weight_decay': 0.0008921613534999276, 'batch_size': 512}. Best is trial 8 with value: 0.8649838460866781.\u001b[0m\n",
      "\u001b[32m[I 2022-12-13 16:52:38,853]\u001b[0m Trial 19 finished with value: 0.856251814469936 and parameters: {'lr': 0.004682703195820197, 'dropout_rate': 0.2, 'epochs': 400, 'weight_decay': 0.00045575287845028075, 'batch_size': 768}. Best is trial 8 with value: 0.8649838460866781.\u001b[0m\n",
      "\u001b[32m[I 2022-12-13 16:53:36,061]\u001b[0m Trial 20 finished with value: 0.8628794341167367 and parameters: {'lr': 0.0009802400139864121, 'dropout_rate': 0.5, 'epochs': 300, 'weight_decay': 0.0006675133446693446, 'batch_size': 256}. Best is trial 8 with value: 0.8649838460866781.\u001b[0m\n",
      "\u001b[32m[I 2022-12-13 16:54:25,337]\u001b[0m Trial 21 finished with value: 0.8624592607187129 and parameters: {'lr': 0.0032436527809837127, 'dropout_rate': 0.30000000000000004, 'epochs': 400, 'weight_decay': 0.0008406966545365837, 'batch_size': 512}. Best is trial 8 with value: 0.8649838460866781.\u001b[0m\n",
      "\u001b[32m[I 2022-12-13 16:55:15,381]\u001b[0m Trial 22 finished with value: 0.8625357576517456 and parameters: {'lr': 0.0038148767434083375, 'dropout_rate': 0.4, 'epochs': 400, 'weight_decay': 0.0007465526306190988, 'batch_size': 512}. Best is trial 8 with value: 0.8649838460866781.\u001b[0m\n",
      "\u001b[32m[I 2022-12-13 16:56:01,524]\u001b[0m Trial 23 finished with value: 0.8647873795733039 and parameters: {'lr': 0.005390690734821191, 'dropout_rate': 0.30000000000000004, 'epochs': 500, 'weight_decay': 0.0008469539393605075, 'batch_size': 512}. Best is trial 8 with value: 0.8649838460866781.\u001b[0m\n",
      "\u001b[32m[I 2022-12-13 16:56:43,589]\u001b[0m Trial 24 finished with value: 0.8621555119212074 and parameters: {'lr': 0.004993398807750786, 'dropout_rate': 0.2, 'epochs': 500, 'weight_decay': 0.000658460732206197, 'batch_size': 768}. Best is trial 8 with value: 0.8649838460866781.\u001b[0m\n",
      "\u001b[32m[I 2022-12-13 16:57:27,543]\u001b[0m Trial 25 finished with value: 0.8625193387978265 and parameters: {'lr': 0.005926619057202488, 'dropout_rate': 0.4, 'epochs': 500, 'weight_decay': 0.0008809739090345056, 'batch_size': 512}. Best is trial 8 with value: 0.8649838460866781.\u001b[0m\n",
      "\u001b[32m[I 2022-12-13 16:58:27,584]\u001b[0m Trial 26 finished with value: 0.8624935910496349 and parameters: {'lr': 0.0023723056994029287, 'dropout_rate': 0.5, 'epochs': 500, 'weight_decay': 0.000894620725386183, 'batch_size': 256}. Best is trial 8 with value: 0.8649838460866781.\u001b[0m\n",
      "\u001b[32m[I 2022-12-13 16:58:54,229]\u001b[0m Trial 27 finished with value: 0.8598826201207085 and parameters: {'lr': 0.007028444294239187, 'dropout_rate': 0.30000000000000004, 'epochs': 300, 'weight_decay': 0.000999157774041031, 'batch_size': 512}. Best is trial 8 with value: 0.8649838460866781.\u001b[0m\n",
      "\u001b[32m[I 2022-12-13 16:59:36,716]\u001b[0m Trial 28 finished with value: 0.8503488633302063 and parameters: {'lr': 0.000945315152806608, 'dropout_rate': 0.2, 'epochs': 500, 'weight_decay': 0.0003261877493429331, 'batch_size': 768}. Best is trial 8 with value: 0.8649838460866781.\u001b[0m\n",
      "\u001b[32m[I 2022-12-13 17:00:16,184]\u001b[0m Trial 29 finished with value: 0.8522168811192883 and parameters: {'lr': 0.005556355004615533, 'dropout_rate': 0.0, 'epochs': 500, 'weight_decay': 0.0005221411758843427, 'batch_size': 1024}. Best is trial 8 with value: 0.8649838460866781.\u001b[0m\n"
     ]
    },
    {
     "name": "stdout",
     "output_type": "stream",
     "text": [
      "AUCROC perf = 0.8651101593151248 -- AUCPR perf = 0.5687964433163392\n",
      "Fold: 1 -------------------------\n",
      "AUCROC perf = 0.8617067921067105 -- AUCPR perf = 0.5851971823506095\n",
      "Fold: 2 -------------------------\n",
      "AUCROC perf = 0.8744034110651883 -- AUCPR perf = 0.6204538457605586\n",
      "Fold: 3 -------------------------\n",
      "AUCROC perf = 0.8651458677225864 -- AUCPR perf = 0.5823296129380009\n",
      "Fold: 4 -------------------------\n",
      "AUCROC perf = 0.8657467064104845 -- AUCPR perf = 0.5896702872398335\n",
      "End----- time  1365.2795662879944 s\n"
     ]
    }
   ],
   "source": [
    "## run over all the data:\n",
    "exp_time = time.time()\n",
    "val_values = [] \n",
    "val_values_aucpr = []\n",
    "N_estimors = []\n",
    "pred_final_sum = np.zeros(len(test))\n",
    "preds_OOF = []\n",
    "y_true_00F = []\n",
    "pred_final = []\n",
    "Best_params = []\n",
    "reset_seed_(static_params['SEED'])\n",
    "for ind, (X_train_, X_test_, Y_train_, Y_test_) in enumerate(datasets):\n",
    "    print('Fold:', ind, '-------------------------')\n",
    "    train_set = torch.utils.data.TensorDataset(torch.Tensor(X_train_), torch.Tensor(Y_train_[:, np.newaxis]))\n",
    "    val_set = torch.utils.data.TensorDataset(torch.Tensor(X_test_), torch.Tensor(Y_test_[:, np.newaxis]))\n",
    "    if ind==0:\n",
    "        # study_SimpleDNN = optuna.create_study(direction=\"maximize\", sampler=optuna.samplers.TPESampler(seed=static_params['SEED']))\n",
    "        # _ = study_SimpleDNN.optimize(objective_SimpleDNN, n_trials=30)\n",
    "        # best_trial = study_SimpleDNN.best_trial\n",
    "        # best_p = best_trial.params\n",
    "        best_p = {'lr': 0.0013081785249633106, 'dropout_rate': 0.2, 'epochs': 100, 'weight_decay': 0.0009094110816767034, 'batch_size': 512}\n",
    "    Best_params.append(best_p)\n",
    "    \n",
    "    save_model_dir = f'Models/MLP2_Fold_{ind}'\n",
    "    DNNModel = DNN(dim_input = n_features,dim_hidden=n_features,dim_output=n_classes-1, dropout_rate=best_p['dropout_rate'])\n",
    "    AUC_s,AUCPR_s, best_model = TrainModel(DNNModel, train_set, val_set,save_path=save_model_dir, device = device, epochs= best_p['epochs'], batch_size = best_p['batch_size'], lr = best_p['lr'] , eval_every = 1, weight_decay=best_p['weight_decay'], verbose=0)\n",
    "    DNNModel = load(DNNModel,save_model_dir )\n",
    "    \n",
    "    preds_OOF_tmp = predict(DNNModel,val_set[:][0]) \n",
    "    preds_OOF.append(list(preds_OOF_tmp))\n",
    "     \n",
    "    y_true_00F.append(list(Y_test_))\n",
    "    \n",
    "    pred_final_tmp = predict(DNNModel, torch.Tensor(processed_test)) \n",
    "    pred_final.append(list(pred_final_tmp))\n",
    "    pred_final_sum = pred_final_sum+pred_final_tmp\n",
    "    \n",
    "    \n",
    "    best_aucroc = AUC(val_set[:][1].numpy(), preds_OOF_tmp) \n",
    "    best_aurpr = average_precision_score(val_set[:][1].numpy(), preds_OOF_tmp) \n",
    "\n",
    "    \n",
    "    print(f\"AUCROC perf = {best_aucroc} -- AUCPR perf = {best_aurpr}\")\n",
    "    exp_time = time.time()-exp_time\n",
    "print('End----- time ',exp_time, 's')"
   ]
  },
  {
   "cell_type": "code",
   "execution_count": 68,
   "metadata": {},
   "outputs": [],
   "source": []
  },
  {
   "cell_type": "code",
   "execution_count": 69,
   "metadata": {},
   "outputs": [],
   "source": [
    "preds_OOF_1d = np.array(list(chain(*preds_OOF)))\n",
    "y_true_00F_1d = np.array(list(chain(*y_true_00F)))"
   ]
  },
  {
   "cell_type": "code",
   "execution_count": 70,
   "metadata": {},
   "outputs": [
    {
     "data": {
      "text/plain": [
       "(0.8657383605759624, 0.5860064080161675)"
      ]
     },
     "execution_count": 70,
     "metadata": {},
     "output_type": "execute_result"
    }
   ],
   "source": [
    "AUC(y_true_00F_1d, preds_OOF_1d), average_precision_score(y_true_00F_1d, preds_OOF_1d)"
   ]
  },
  {
   "cell_type": "code",
   "execution_count": 71,
   "metadata": {},
   "outputs": [
    {
     "data": {
      "text/plain": [
       "0.1671010047570644"
      ]
     },
     "execution_count": 71,
     "metadata": {},
     "output_type": "execute_result"
    }
   ],
   "source": [
    "mean_absolute_error(y_true_00F_1d,preds_OOF_1d)"
   ]
  },
  {
   "cell_type": "code",
   "execution_count": null,
   "metadata": {},
   "outputs": [],
   "source": []
  },
  {
   "cell_type": "markdown",
   "metadata": {},
   "source": [
    "### Choice of the best tresh "
   ]
  },
  {
   "cell_type": "code",
   "execution_count": 72,
   "metadata": {},
   "outputs": [],
   "source": [
    "treshs = np.arange(0.3, 0.6, 0.005)"
   ]
  },
  {
   "cell_type": "code",
   "execution_count": 73,
   "metadata": {},
   "outputs": [],
   "source": [
    "def Tresh_to_metric(y_true,pred_t, treshs):\n",
    "    res = list()\n",
    "    for tresh in treshs:\n",
    "        pred_tresh = (pred_t>tresh).astype(int)\n",
    "        res.append(mean_absolute_error(y_true,pred_tresh))\n",
    "    return res"
   ]
  },
  {
   "cell_type": "code",
   "execution_count": 74,
   "metadata": {},
   "outputs": [],
   "source": [
    "ress = Tresh_to_metric(y_true_00F_1d, preds_OOF_1d,treshs)"
   ]
  },
  {
   "cell_type": "code",
   "execution_count": 75,
   "metadata": {},
   "outputs": [
    {
     "data": {
      "text/plain": [
       "<matplotlib.collections.PathCollection at 0x7f66195a1460>"
      ]
     },
     "execution_count": 75,
     "metadata": {},
     "output_type": "execute_result"
    },
    {
     "data": {
      "image/png": "[encoded data removed]",
      "text/plain": [
       "<Figure size 432x288 with 1 Axes>"
      ]
     },
     "metadata": {
      "needs_background": "light"
     },
     "output_type": "display_data"
    }
   ],
   "source": [
    "plt.scatter(treshs,ress)"
   ]
  },
  {
   "cell_type": "code",
   "execution_count": 76,
   "metadata": {},
   "outputs": [],
   "source": [
    "pred_tresh = (preds_OOF_1d>0.46).astype(int)"
   ]
  },
  {
   "cell_type": "code",
   "execution_count": 77,
   "metadata": {},
   "outputs": [
    {
     "data": {
      "text/plain": [
       "0.11095051861928243"
      ]
     },
     "execution_count": 77,
     "metadata": {},
     "output_type": "execute_result"
    }
   ],
   "source": [
    "mean_absolute_error(y_true_00F_1d,pred_tresh)"
   ]
  },
  {
   "cell_type": "code",
   "execution_count": 78,
   "metadata": {},
   "outputs": [
    {
     "data": {
      "image/png": "[encoded data removed]",
      "text/plain": [
       "<Figure size 432x288 with 1 Axes>"
      ]
     },
     "metadata": {
      "needs_background": "light"
     },
     "output_type": "display_data"
    }
   ],
   "source": [
    "plt.hist(preds_OOF_1d);"
   ]
  },
  {
   "cell_type": "code",
   "execution_count": 79,
   "metadata": {},
   "outputs": [],
   "source": [
    "pred_final = pred_final_sum/5"
   ]
  },
  {
   "cell_type": "code",
   "execution_count": 80,
   "metadata": {},
   "outputs": [
    {
     "data": {
      "text/plain": [
       "(10086, 39)"
      ]
     },
     "execution_count": 80,
     "metadata": {},
     "output_type": "execute_result"
    }
   ],
   "source": [
    "processed_test.shape"
   ]
  },
  {
   "cell_type": "code",
   "execution_count": 81,
   "metadata": {},
   "outputs": [
    {
     "data": {
      "image/png": "[encoded data removed]",
      "text/plain": [
       "<Figure size 432x288 with 1 Axes>"
      ]
     },
     "metadata": {
      "needs_background": "light"
     },
     "output_type": "display_data"
    }
   ],
   "source": [
    "plt.hist(pred_final);"
   ]
  },
  {
   "cell_type": "code",
   "execution_count": 82,
   "metadata": {},
   "outputs": [],
   "source": [
    "pred_final_tresh = (pred_final>0.46).astype(int)"
   ]
  },
  {
   "cell_type": "markdown",
   "metadata": {},
   "source": [
    "### Submission"
   ]
  },
  {
   "cell_type": "code",
   "execution_count": null,
   "metadata": {},
   "outputs": [],
   "source": []
  },
  {
   "cell_type": "code",
   "execution_count": 83,
   "metadata": {
    "id": "ELYl_OMUqRhR"
   },
   "outputs": [],
   "source": [
    "# Create submission DataFrame\n",
    "submission = pd.DataFrame({\"uniqueid\": test[\"uniqueid\"] + \" x \" + test[\"country\"],\n",
    "                           \"bank_account\": pred_final_tresh})"
   ]
  },
  {
   "cell_type": "code",
   "execution_count": null,
   "metadata": {},
   "outputs": [],
   "source": []
  },
  {
   "cell_type": "markdown",
   "metadata": {
    "id": "KWsK-dHOqcIB"
   },
   "source": [
    "Let’s observe the sample results from our submission DataFrame.\n"
   ]
  },
  {
   "cell_type": "code",
   "execution_count": 84,
   "metadata": {
    "colab": {
     "base_uri": "https://localhost:8080/",
     "height": 206
    },
    "id": "VHhKw7ceqdD2",
    "outputId": "90eb4eab-a985-485a-98df-5f8aa8a19851"
   },
   "outputs": [
    {
     "data": {
      "text/html": [
       "<div>\n",
       "<style scoped>\n",
       "    .dataframe tbody tr th:only-of-type {\n",
       "        vertical-align: middle;\n",
       "    }\n",
       "\n",
       "    .dataframe tbody tr th {\n",
       "        vertical-align: top;\n",
       "    }\n",
       "\n",
       "    .dataframe thead th {\n",
       "        text-align: right;\n",
       "    }\n",
       "</style>\n",
       "<table border=\"1\" class=\"dataframe\">\n",
       "  <thead>\n",
       "    <tr style=\"text-align: right;\">\n",
       "      <th></th>\n",
       "      <th>uniqueid</th>\n",
       "      <th>bank_account</th>\n",
       "    </tr>\n",
       "  </thead>\n",
       "  <tbody>\n",
       "    <tr>\n",
       "      <th>4657</th>\n",
       "      <td>uniqueid_10792 x Rwanda</td>\n",
       "      <td>0</td>\n",
       "    </tr>\n",
       "    <tr>\n",
       "      <th>7770</th>\n",
       "      <td>uniqueid_8045 x Tanzania</td>\n",
       "      <td>0</td>\n",
       "    </tr>\n",
       "    <tr>\n",
       "      <th>3787</th>\n",
       "      <td>uniqueid_9922 x Rwanda</td>\n",
       "      <td>0</td>\n",
       "    </tr>\n",
       "    <tr>\n",
       "      <th>8108</th>\n",
       "      <td>uniqueid_8383 x Tanzania</td>\n",
       "      <td>0</td>\n",
       "    </tr>\n",
       "    <tr>\n",
       "      <th>9619</th>\n",
       "      <td>uniqueid_2536 x Uganda</td>\n",
       "      <td>0</td>\n",
       "    </tr>\n",
       "  </tbody>\n",
       "</table>\n",
       "</div>"
      ],
      "text/plain": [
       "                      uniqueid  bank_account\n",
       "4657   uniqueid_10792 x Rwanda             0\n",
       "7770  uniqueid_8045 x Tanzania             0\n",
       "3787    uniqueid_9922 x Rwanda             0\n",
       "8108  uniqueid_8383 x Tanzania             0\n",
       "9619    uniqueid_2536 x Uganda             0"
      ]
     },
     "execution_count": 84,
     "metadata": {},
     "output_type": "execute_result"
    }
   ],
   "source": [
    "#show the five sample\n",
    "submission.sample(5)"
   ]
  },
  {
   "cell_type": "markdown",
   "metadata": {
    "id": "CcOeN6Nkqkkw"
   },
   "source": [
    "Save results in the CSV file.\n"
   ]
  },
  {
   "cell_type": "code",
   "execution_count": 85,
   "metadata": {
    "colab": {
     "base_uri": "https://localhost:8080/",
     "height": 17
    },
    "id": "FzEYLNpDqjL-",
    "outputId": "1d37b510-2845-4ada-82d4-aeff7c8b1973"
   },
   "outputs": [],
   "source": [
    "# Create submission csv file csv file\n",
    "submission.to_csv('Submissions/MLP2_CV_Tresh.csv', index = False)"
   ]
  },
  {
   "cell_type": "code",
   "execution_count": null,
   "metadata": {},
   "outputs": [],
   "source": []
  }
 ],
 "metadata": {
  "colab": {
   "collapsed_sections": [],
   "name": "StarterNotebook.ipynb",
   "provenance": [],
   "toc_visible": true
  },
  "kernelspec": {
   "display_name": "Python 3 (ipykernel)",
   "language": "python",
   "name": "python3"
  },
  "language_info": {
   "codemirror_mode": {
    "name": "ipython",
    "version": 3
   },
   "file_extension": ".py",
   "mimetype": "text/x-python",
   "name": "python",
   "nbconvert_exporter": "python",
   "pygments_lexer": "ipython3",
   "version": "3.9.12"
  }
 },
 "nbformat": 4,
 "nbformat_minor": 4
}
