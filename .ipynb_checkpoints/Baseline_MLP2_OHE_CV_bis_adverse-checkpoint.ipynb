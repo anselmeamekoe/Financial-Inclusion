{
 "cells": [
  {
   "cell_type": "markdown",
   "metadata": {
    "id": "48S6RVt_jXwp"
   },
   "source": [
    "# Simple MLP model. "
   ]
  },
  {
   "cell_type": "code",
   "execution_count": 1,
   "metadata": {
    "id": "8IWFJK2h22yc"
   },
   "outputs": [],
   "source": [
    "import os, sys, time\n",
    "\n",
    "import pandas as pd\n",
    "import numpy as np\n",
    "import seaborn as sns\n",
    "import matplotlib.pyplot as plt\n",
    "import warnings\n",
    "warnings.filterwarnings('ignore')"
   ]
  },
  {
   "cell_type": "code",
   "execution_count": 2,
   "metadata": {},
   "outputs": [],
   "source": [
    "from sklearn.model_selection import train_test_split, KFold, StratifiedKFold\n",
    "from sklearn.preprocessing import LabelEncoder, OneHotEncoder, StandardScaler, MinMaxScaler\n",
    "from sklearn.metrics import roc_auc_score as AUC\n",
    "from sklearn.metrics import roc_auc_score, average_precision_score, accuracy_score,mean_absolute_error"
   ]
  },
  {
   "cell_type": "code",
   "execution_count": 3,
   "metadata": {},
   "outputs": [],
   "source": [
    "from itertools import chain"
   ]
  },
  {
   "cell_type": "code",
   "execution_count": 4,
   "metadata": {},
   "outputs": [],
   "source": [
    "\n",
    "\n",
    "import torch\n",
    "import torch.nn as nn\n",
    "import torch.nn.functional as F\n",
    "import torch.optim as optim \n",
    "from torch.nn import Linear\n",
    "\n"
   ]
  },
  {
   "cell_type": "code",
   "execution_count": 5,
   "metadata": {},
   "outputs": [],
   "source": [
    "import optuna"
   ]
  },
  {
   "cell_type": "code",
   "execution_count": 6,
   "metadata": {
    "id": "MQCvC_XjDzyH"
   },
   "outputs": [],
   "source": [
    "# Load files into a pandas dataframe\n",
    "data_path= 'Datasets/'\n",
    "train = pd.read_csv(data_path+'Train.csv')\n",
    "test = pd.read_csv(data_path+'Test.csv')\n",
    "ss = pd.read_csv(data_path+'SampleSubmission.csv')\n",
    "variables = pd.read_csv(data_path+'VariableDefinitions.csv')"
   ]
  },
  {
   "cell_type": "code",
   "execution_count": 7,
   "metadata": {
    "colab": {
     "base_uri": "https://localhost:8080/"
    },
    "id": "KDu51_TBceft",
    "outputId": "bc1a4302-34e9-4107-8a69-00d59e1f77d4"
   },
   "outputs": [
    {
     "name": "stdout",
     "output_type": "stream",
     "text": [
      "0        1\n",
      "1        0\n",
      "2        1\n",
      "3        0\n",
      "4        0\n",
      "        ..\n",
      "23519    0\n",
      "23520    0\n",
      "23521    0\n",
      "23522    0\n",
      "23523    0\n",
      "Name: bank_account, Length: 23524, dtype: int64\n"
     ]
    }
   ],
   "source": [
    "\n",
    "# Cobvert target label to numerical Data\n",
    "le = LabelEncoder()\n",
    "train['bank_account'] = le.fit_transform(train['bank_account'])\n",
    "\n",
    "#Separate training features from target\n",
    "X_train = train.drop(['bank_account'], axis=1)\n",
    "y_train = train['bank_account']\n",
    "\n",
    "print(y_train)"
   ]
  },
  {
   "cell_type": "code",
   "execution_count": null,
   "metadata": {},
   "outputs": [],
   "source": []
  },
  {
   "cell_type": "code",
   "execution_count": null,
   "metadata": {},
   "outputs": [],
   "source": []
  },
  {
   "cell_type": "code",
   "execution_count": 8,
   "metadata": {
    "id": "5nLXAW5hdYOk"
   },
   "outputs": [],
   "source": [
    "def preprocessing_data(data, data_test):\n",
    "\n",
    "    data[[\"household_size\", \"age_of_respondent\" ]] = data[[\"household_size\", \"age_of_respondent\"]].values.astype(float)\n",
    "    data_test[[\"household_size\", \"age_of_respondent\"]] = data_test[[\"household_size\", \"age_of_respondent\"]].values.astype(float)\n",
    "    \n",
    "    data[[\"year\"]] = data[[\"year\"]].values.astype(str)\n",
    "    data_test[[\"year\"]] = data_test[[\"year\"]].values.astype(str)\n",
    "    categ = [\"year\",\n",
    "             \"relationship_with_head\",\n",
    "             \"marital_status\",\n",
    "             \"education_level\",\n",
    "             \"job_type\",\n",
    "             \"country\"\n",
    "            ]\n",
    "\n",
    "    \n",
    "    data = pd.get_dummies(data, prefix_sep=\"_\", columns=categ)\n",
    "    data_test = pd.get_dummies(data_test, prefix_sep=\"_\", columns=categ)\n",
    "    \n",
    "    # Label Encoder conversion\n",
    "    data[\"location_type\"] = le.fit_transform(data[\"location_type\"])\n",
    "    data[\"cellphone_access\"] = le.fit_transform(data[\"cellphone_access\"])\n",
    "    data[\"gender_of_respondent\"] = le.fit_transform(data[\"gender_of_respondent\"])\n",
    "    \n",
    "    data_test[\"location_type\"] = le.fit_transform(data_test[\"location_type\"])\n",
    "    data_test[\"cellphone_access\"] = le.fit_transform(data_test[\"cellphone_access\"])\n",
    "    data_test[\"gender_of_respondent\"] = le.fit_transform(data_test[\"gender_of_respondent\"])\n",
    "    \n",
    "    # drop uniquid column\n",
    "    data = data.drop([\"uniqueid\"], axis=1)\n",
    "    data_test = data_test.drop([\"uniqueid\"], axis=1)\n",
    "    \n",
    "    features = list(data_test.columns)\n",
    "    data_test = data_test[features]\n",
    "    \n",
    "    # scale our data into range of 0 and 1\n",
    "    scaler = MinMaxScaler(feature_range=(0, 1))\n",
    "    data = scaler.fit_transform(data)\n",
    "    data_test = scaler.transform(data_test)\n",
    "    \n",
    "    return features, data, data_test                 "
   ]
  },
  {
   "cell_type": "code",
   "execution_count": 9,
   "metadata": {
    "id": "eNdoBGhgdYdQ"
   },
   "outputs": [],
   "source": [
    "\n",
    "features, processed_train, processed_test = preprocessing_data(X_train, test)"
   ]
  },
  {
   "cell_type": "code",
   "execution_count": 10,
   "metadata": {},
   "outputs": [
    {
     "data": {
      "text/plain": [
       "(23524, 39)"
      ]
     },
     "execution_count": 10,
     "metadata": {},
     "output_type": "execute_result"
    }
   ],
   "source": [
    "processed_train.shape"
   ]
  },
  {
   "cell_type": "code",
   "execution_count": 11,
   "metadata": {},
   "outputs": [
    {
     "data": {
      "text/plain": [
       "(10086, 39)"
      ]
     },
     "execution_count": 11,
     "metadata": {},
     "output_type": "execute_result"
    }
   ],
   "source": [
    "processed_test.shape"
   ]
  },
  {
   "cell_type": "code",
   "execution_count": 12,
   "metadata": {},
   "outputs": [],
   "source": [
    "k =5\n",
    "Sf= StratifiedKFold(n_splits=k, shuffle=True, random_state= 42)\n",
    "datasets = [(processed_train[train_index], processed_train[test_index],y_train[train_index], y_train[test_index]) for train_index,test_index in Sf.split(processed_train, y_train) ]"
   ]
  },
  {
   "cell_type": "code",
   "execution_count": 13,
   "metadata": {
    "colab": {
     "base_uri": "https://localhost:8080/"
    },
    "id": "hwZVZ4cGdmTP",
    "outputId": "15e18896-281a-4dcc-9b07-b85da0757322"
   },
   "outputs": [
    {
     "name": "stdout",
     "output_type": "stream",
     "text": [
      "(23524, 39)\n"
     ]
    }
   ],
   "source": [
    "# shape of the processed train set\n",
    "print(processed_train.shape)"
   ]
  },
  {
   "cell_type": "markdown",
   "metadata": {
    "id": "RmPQteHwk4hS",
    "tags": []
   },
   "source": [
    "###  Model Building and Experiments\n"
   ]
  },
  {
   "cell_type": "markdown",
   "metadata": {},
   "source": [
    "#### Setup and utils"
   ]
  },
  {
   "cell_type": "code",
   "execution_count": 14,
   "metadata": {},
   "outputs": [],
   "source": [
    "n_features,n_classes = processed_train.shape[1],2"
   ]
  },
  {
   "cell_type": "code",
   "execution_count": 15,
   "metadata": {},
   "outputs": [],
   "source": [
    "static_params = {'dim_input':n_features,\n",
    "                 'dim_output':1,\n",
    "                 'n_head':1,\n",
    "                 'get_attention':False,\n",
    "                 'bias':True,\n",
    "                 'activation':nn.ReLU(),\n",
    "                 'SEED':42,\n",
    "                 'device':torch.device(\"cuda:0\" if torch.cuda.is_available() else \"cpu\"),\n",
    "                 #'batch_size':256\n",
    "}"
   ]
  },
  {
   "cell_type": "code",
   "execution_count": 16,
   "metadata": {},
   "outputs": [
    {
     "data": {
      "text/plain": [
       "device(type='cuda', index=0)"
      ]
     },
     "execution_count": 16,
     "metadata": {},
     "output_type": "execute_result"
    }
   ],
   "source": [
    "device = torch.device(\"cuda:0\" if torch.cuda.is_available() else \"cpu\")\n",
    "device\n"
   ]
  },
  {
   "cell_type": "code",
   "execution_count": 28,
   "metadata": {},
   "outputs": [],
   "source": [
    "def reset_seed_(seed):\n",
    "    # Resetting SEED to fair comparison of results\n",
    "    os.environ[\"PYTHONHASHSEED\"]=str(seed)\n",
    "    torch.manual_seed(seed)\n",
    "    torch.cuda.manual_seed(seed)\n",
    "    np.random.seed(seed)"
   ]
  },
  {
   "cell_type": "code",
   "execution_count": 18,
   "metadata": {},
   "outputs": [],
   "source": [
    "def save(Model, path):\n",
    "    state = {\n",
    "        'state_dict':Model.state_dict()\n",
    "    }\n",
    "    dir_path = os.path.dirname(path)\n",
    "    os.makedirs(dir_path, exist_ok=True)\n",
    "    torch.save(state, path) "
   ]
  },
  {
   "cell_type": "code",
   "execution_count": 19,
   "metadata": {},
   "outputs": [],
   "source": [
    "def load(Model, path):\n",
    "    state = torch.load(path)\n",
    "    Model.load_state_dict(state['state_dict'])\n",
    "    return Model"
   ]
  },
  {
   "cell_type": "code",
   "execution_count": 20,
   "metadata": {},
   "outputs": [],
   "source": [
    "\n",
    "def TrainModel(Model, \n",
    "               train_set,\n",
    "               test_set,\n",
    "               save_path,\n",
    "               device = device,\n",
    "               epochs= 2000,\n",
    "               batch_size = 2000,\n",
    "               lr = 1e-2 , \n",
    "               eval_every = 100,\n",
    "               weight_decay = 0.1,\n",
    "               verbose = 1\n",
    "              ):\n",
    "    \n",
    "    optimizer = optim.Adam(Model.parameters(), lr = lr, weight_decay = weight_decay )\n",
    "    #DNN_criterion = nn.MSELoss().to(device)\n",
    "    criterion = nn.BCELoss().to(device)\n",
    "    train_loader = torch.utils.data.DataLoader(train_set, batch_size = batch_size, drop_last = False, shuffle = True) \n",
    "    #with tqdm(total = epochs, desc='Epoch', bar_format=\"{l_bar}{bar:10}{r_bar}{bar:-10b}\")as t:\n",
    "    AUC_s = []\n",
    "    AUCPR_s = []\n",
    "    best_perf = 0\n",
    "    for epoch in range(epochs):\n",
    "\n",
    "        #total_epoch = 0\n",
    "        Model.to(device)\n",
    "        Model.train()\n",
    "        \n",
    "\n",
    "        #batch_losses = []\n",
    "        #batch_correct = 0\n",
    "        for index, (x_batch, y_batch) in enumerate(train_loader):\n",
    "\n",
    "            #total_epoch += y_batch.size(0)\n",
    "\n",
    "            x_batch = x_batch.to(device)\n",
    "            y_batch = y_batch.to(device)\n",
    "            \n",
    "            if Model.get_attention:\n",
    "                att, out  = Model(x_batch)\n",
    "            else:\n",
    "                out  = Model(x_batch)\n",
    "            #loss = criterion(out, y_batch.reshape(out.size()))\n",
    "            loss = criterion(out, y_batch.reshape(out.size()))\n",
    "            optimizer.zero_grad()\n",
    "            loss.backward()\n",
    "            optimizer.step()\n",
    "\n",
    "        #Evalution on the test set \n",
    "        \n",
    "        if epoch%eval_every==0:\n",
    "            Model.eval()\n",
    "            #model.to('cpu')\n",
    "            Xtest = test_set[:][0].to(device)\n",
    "            with torch.no_grad():\n",
    "                if Model.get_attention:\n",
    "                    att, pred_test = Model(Xtest)\n",
    "                    pred_test = pred_test.to('cpu').numpy().ravel()\n",
    "                else:\n",
    "                    pred_test = Model(Xtest).to('cpu').numpy().ravel()\n",
    "\n",
    "                test_auc  = AUC(test_set[:][1].numpy(), pred_test)\n",
    "                test_result =  average_precision_score(test_set[:][1].numpy(), pred_test) # AUC(pred, test_set[:][1].reshape(pred.size()) )\n",
    "            AUC_s.append(test_auc)\n",
    "            AUCPR_s.append(test_result)\n",
    "            \n",
    "            # Checkpoint for the best model \n",
    "            if test_auc>best_perf:\n",
    "                best_perf = test_auc\n",
    "                best_model = Model \n",
    "                save(Model, save_path)\n",
    "            if verbose:\n",
    "                print(f\"epoch = {epoch}--AUCROC perf = {test_auc} -- AUCPR perf = {test_result}\")\n",
    "    return AUC_s,AUCPR_s, best_model"
   ]
  },
  {
   "cell_type": "code",
   "execution_count": 21,
   "metadata": {},
   "outputs": [],
   "source": [
    "class DNN(nn.Module):\n",
    "    def __init__(self,\n",
    "                 dim_input,\n",
    "                 dim_hidden,\n",
    "                 dim_output,\n",
    "                 bias = True,\n",
    "                 activation = nn.ReLU(),#,\n",
    "                 #n_hidden = 2\n",
    "                 dropout_rate = 0.0\n",
    "    ):\n",
    "        super(DNN, self).__init__()\n",
    "\n",
    "        # we don't have attention for this model\n",
    "        self.get_attention = False\n",
    "        \n",
    "        #self.n_hidden = n_hidden\n",
    "        self.fc1 = nn.Linear(dim_input, dim_hidden*4, bias =bias)\n",
    "        self.fc2 = nn.Linear(dim_hidden*4,dim_hidden*2, bias =bias)\n",
    "        \n",
    "        self.linear = nn.Linear(dim_hidden*2,dim_output, bias =bias)\n",
    "        self.activation = activation # nn.Sigmoid() #nn.ReLU()\n",
    "        \n",
    "        self.dropout = nn.Dropout(dropout_rate)\n",
    "        self.sigmoid = nn.Sigmoid()\n",
    "    def forward(self, out):\n",
    "        \n",
    "\n",
    "        out = self.fc1(out)\n",
    "        out = self.activation(out)\n",
    "        out  = self.dropout(out)\n",
    "        \n",
    "        out = self.fc2(out)\n",
    "        out = self.activation(out)\n",
    "        out  = self.dropout(out)\n",
    "\n",
    "        out = self.linear(out)\n",
    "        return self.sigmoid(out)"
   ]
  },
  {
   "cell_type": "code",
   "execution_count": 22,
   "metadata": {},
   "outputs": [],
   "source": [
    "\n",
    "def predict(model, Xtest):\n",
    "    model.eval()\n",
    "    #model.to('cpu')\n",
    "    Xtest = Xtest.to(device)\n",
    "    with torch.no_grad():\n",
    "        if model.get_attention:\n",
    "            att, pred_test = model(Xtest)\n",
    "            pred_test = pred_test.to('cpu').numpy().ravel()\n",
    "            att = att.to('cpu').numpy()\n",
    "            return att, pred_test\n",
    "        else:\n",
    "            pred_test = model(Xtest).to('cpu').numpy().ravel()\n",
    "            return pred_test"
   ]
  },
  {
   "cell_type": "code",
   "execution_count": 23,
   "metadata": {},
   "outputs": [],
   "source": [
    "def builModel_SimpleDNN(opt_params):\n",
    "    Model = DNN(dim_input = static_params['dim_input'],\n",
    "                dim_hidden=static_params['dim_input'],\n",
    "                dim_output=static_params['dim_output'],\n",
    "                dropout_rate = opt_params['dropout_rate']\n",
    "               )\n",
    "    return Model"
   ]
  },
  {
   "cell_type": "code",
   "execution_count": 24,
   "metadata": {},
   "outputs": [],
   "source": [
    "\n",
    "def TrainValidateModel(opt_params, Model):\n",
    "    optimizer = optim.Adam(Model.parameters(), lr = opt_params['lr'], weight_decay = opt_params['weight_decay'] )\n",
    "    \n",
    "    device = static_params['device']\n",
    "    criterion = nn.BCELoss().to(device)\n",
    "    \n",
    "    train_loader = torch.utils.data.DataLoader(train_set, batch_size = opt_params['batch_size'], drop_last = False, shuffle = True) \n",
    "    for epoch in range(opt_params['epochs']):\n",
    "\n",
    "        Model.to(device)\n",
    "        Model.train()\n",
    "        for index, (x_batch, y_batch) in enumerate(train_loader):\n",
    "\n",
    "            x_batch = x_batch.to(device)\n",
    "            y_batch = y_batch.to(device)\n",
    "            \n",
    "            if Model.get_attention:\n",
    "                att, out  = Model(x_batch)\n",
    "            else:\n",
    "                out  = Model(x_batch)\n",
    "                \n",
    "            loss = criterion(out, y_batch.reshape(out.size()))\n",
    "            optimizer.zero_grad()\n",
    "            loss.backward()\n",
    "            optimizer.step()\n",
    "\n",
    "    #Evalution on the val set \n",
    "    Model.eval()\n",
    "    #Model.to('cpu')\n",
    "    Xval = val_set[:][0].to(device)\n",
    "    with torch.no_grad():\n",
    "        if Model.get_attention:\n",
    "            att, pred_val = Model(Xval)\n",
    "            pred_val = pred_val.to('cpu').numpy().ravel()\n",
    "        else:\n",
    "            pred_val = Model(Xval).to('cpu').numpy().ravel()\n",
    "        val_result =  AUC(val_set[:][1].numpy(), pred_val) # AUC(pred, test_set[:][1].reshape(pred.size()) ) # average_precision_score\n",
    "    return val_result "
   ]
  },
  {
   "cell_type": "code",
   "execution_count": 25,
   "metadata": {},
   "outputs": [],
   "source": [
    "def ReTrain(opt_params, Model):\n",
    "    optimizer = optim.Adam(Model.parameters(), lr = opt_params['lr'], weight_decay = opt_params['weight_decay'] )\n",
    "    \n",
    "    device = static_params['device']\n",
    "    criterion = nn.BCELoss().to(device)\n",
    "    \n",
    "    train_loader = torch.utils.data.DataLoader(train_set, batch_size = opt_params['batch_size'], drop_last = False, shuffle = True) \n",
    "    for epoch in range(opt_params['epochs']):\n",
    "\n",
    "        Model.to(device)\n",
    "        Model.train()\n",
    "        for index, (x_batch, y_batch) in enumerate(train_loader):\n",
    "\n",
    "            x_batch = x_batch.to(device)\n",
    "            y_batch = y_batch.to(device)\n",
    "            \n",
    "            if Model.get_attention:\n",
    "                att, out  = Model(x_batch)\n",
    "            else:\n",
    "                out  = Model(x_batch)\n",
    "                \n",
    "            loss = criterion(out, y_batch.reshape(out.size()))\n",
    "            optimizer.zero_grad()\n",
    "            loss.backward()\n",
    "            optimizer.step()\n",
    "\n",
    "    return Model"
   ]
  },
  {
   "cell_type": "code",
   "execution_count": 26,
   "metadata": {},
   "outputs": [],
   "source": [
    "def objective_SimpleDNN(trial):\n",
    "    \n",
    "    params = {\n",
    "          'lr': trial.suggest_float('lr', 1e-4, 1e-2),\n",
    "          'dropout_rate': trial.suggest_discrete_uniform('dropout_rate', 0.0, 0.5, 0.1),\n",
    "          'epochs': trial.suggest_int(\"epochs\",100, 500, step = 100 ),\n",
    "          'weight_decay': trial.suggest_float('weight_decay',1e-6, 1e-3),\n",
    "          'batch_size':trial.suggest_int(\"batch_size\",256, 1024, step = 256 )\n",
    "          }\n",
    "\n",
    "    model = builModel_SimpleDNN(params)\n",
    "    \n",
    "    val_auc = TrainValidateModel(params, model)\n",
    "    return val_auc"
   ]
  },
  {
   "cell_type": "code",
   "execution_count": 31,
   "metadata": {},
   "outputs": [
    {
     "name": "stdout",
     "output_type": "stream",
     "text": [
      "Fold: 0 -------------------------\n",
      "AUCROC perf = 0.864855293923606 -- AUCPR perf = 0.5689289791064069\n",
      "Fold: 1 -------------------------\n",
      "AUCROC perf = 0.8619454252221956 -- AUCPR perf = 0.5853106205514913\n",
      "Fold: 2 -------------------------\n",
      "AUCROC perf = 0.8750673462692968 -- AUCPR perf = 0.6251692644462035\n",
      "Fold: 3 -------------------------\n",
      "AUCROC perf = 0.863809403893044 -- AUCPR perf = 0.5794846973399164\n",
      "Fold: 4 -------------------------\n",
      "AUCROC perf = 0.8660991238521207 -- AUCPR perf = 0.5879645151058178\n",
      "End----- time  27.98899483680725 s\n"
     ]
    }
   ],
   "source": [
    "## run over all the data:\n",
    "exp_time = time.time()\n",
    "val_values = [] \n",
    "val_values_aucpr = []\n",
    "N_estimors = []\n",
    "pred_final_sum = np.zeros(len(test))\n",
    "preds_OOF = []\n",
    "y_true_00F = []\n",
    "pred_final = []\n",
    "Best_params = []\n",
    "reset_seed_(static_params['SEED'])\n",
    "for ind, (X_train_, X_test_, Y_train_, Y_test_) in enumerate(datasets):\n",
    "    print('Fold:', ind, '-------------------------')\n",
    "    train_set = torch.utils.data.TensorDataset(torch.Tensor(X_train_), torch.Tensor(Y_train_[:, np.newaxis]))\n",
    "    val_set = torch.utils.data.TensorDataset(torch.Tensor(X_test_), torch.Tensor(Y_test_[:, np.newaxis]))\n",
    "    if ind==0:\n",
    "        # study_SimpleDNN = optuna.create_study(direction=\"maximize\", sampler=optuna.samplers.TPESampler(seed=static_params['SEED']))\n",
    "        # _ = study_SimpleDNN.optimize(objective_SimpleDNN, n_trials=30)\n",
    "        # best_trial = study_SimpleDNN.best_trial\n",
    "        # best_p = best_trial.params\n",
    "        best_p = {'lr': 0.0013081785249633106, 'dropout_rate': 0.2, 'epochs': 100, 'weight_decay': 0.0009094110816767034, 'batch_size': 512}\n",
    "    Best_params.append(best_p)\n",
    "    save_model_dir = f'Models/MLP2_Fold_{ind}'\n",
    "    DNNModel = DNN(dim_input = n_features,dim_hidden=n_features,dim_output=n_classes-1, dropout_rate=best_p['dropout_rate'])\n",
    "    AUC_s,AUCPR_s, best_model = TrainModel(DNNModel, train_set, val_set,save_path=save_model_dir, device = device, epochs= best_p['epochs'], batch_size = best_p['batch_size'], lr = best_p['lr'] , eval_every = 1, weight_decay=best_p['weight_decay'], verbose=0)\n",
    "    DNNModel = load(DNNModel,save_model_dir )\n",
    "    \n",
    "    preds_OOF_tmp = predict(DNNModel,val_set[:][0]) \n",
    "    preds_OOF.append(list(preds_OOF_tmp))\n",
    "     \n",
    "    y_true_00F.append(list(Y_test_))\n",
    "    \n",
    "    pred_final_tmp = predict(DNNModel, torch.Tensor(processed_test)) \n",
    "    pred_final.append(list(pred_final_tmp))\n",
    "    pred_final_sum = pred_final_sum+pred_final_tmp\n",
    "    \n",
    "    \n",
    "    best_aucroc = AUC(val_set[:][1].numpy(), preds_OOF_tmp) \n",
    "    best_aurpr = average_precision_score(val_set[:][1].numpy(), preds_OOF_tmp) \n",
    "\n",
    "    \n",
    "    print(f\"AUCROC perf = {best_aucroc} -- AUCPR perf = {best_aurpr}\")\n",
    "    exp_time = time.time()-exp_time\n",
    "print('End----- time ',exp_time, 's')"
   ]
  },
  {
   "cell_type": "code",
   "execution_count": null,
   "metadata": {},
   "outputs": [],
   "source": []
  },
  {
   "cell_type": "code",
   "execution_count": 32,
   "metadata": {},
   "outputs": [],
   "source": [
    "preds_OOF_1d = np.array(list(chain(*preds_OOF)))\n",
    "y_true_00F_1d = np.array(list(chain(*y_true_00F)))"
   ]
  },
  {
   "cell_type": "code",
   "execution_count": 33,
   "metadata": {},
   "outputs": [
    {
     "data": {
      "text/plain": [
       "(0.8658746200300965, 0.586552991053705)"
      ]
     },
     "execution_count": 33,
     "metadata": {},
     "output_type": "execute_result"
    }
   ],
   "source": [
    "AUC(y_true_00F_1d, preds_OOF_1d), average_precision_score(y_true_00F_1d, preds_OOF_1d)"
   ]
  },
  {
   "cell_type": "code",
   "execution_count": 34,
   "metadata": {},
   "outputs": [
    {
     "data": {
      "text/plain": [
       "0.16515077131510078"
      ]
     },
     "execution_count": 34,
     "metadata": {},
     "output_type": "execute_result"
    }
   ],
   "source": [
    "mean_absolute_error(y_true_00F_1d,preds_OOF_1d)"
   ]
  },
  {
   "cell_type": "code",
   "execution_count": null,
   "metadata": {},
   "outputs": [],
   "source": []
  },
  {
   "cell_type": "code",
   "execution_count": null,
   "metadata": {},
   "outputs": [],
   "source": []
  },
  {
   "cell_type": "markdown",
   "metadata": {},
   "source": [
    "### Choice of the best tresh "
   ]
  },
  {
   "cell_type": "code",
   "execution_count": 35,
   "metadata": {},
   "outputs": [],
   "source": [
    "treshs = np.arange(0.3, 0.6, 0.005)"
   ]
  },
  {
   "cell_type": "code",
   "execution_count": 36,
   "metadata": {},
   "outputs": [],
   "source": [
    "def Tresh_to_metric(y_true,pred_t, treshs):\n",
    "    res = list()\n",
    "    for tresh in treshs:\n",
    "        pred_tresh = (pred_t>tresh).astype(int)\n",
    "        res.append(mean_absolute_error(y_true,pred_tresh))\n",
    "    return res"
   ]
  },
  {
   "cell_type": "code",
   "execution_count": 37,
   "metadata": {},
   "outputs": [],
   "source": [
    "ress = Tresh_to_metric(y_true_00F_1d, preds_OOF_1d,treshs)"
   ]
  },
  {
   "cell_type": "code",
   "execution_count": 38,
   "metadata": {},
   "outputs": [
    {
     "data": {
      "text/plain": [
       "<matplotlib.collections.PathCollection at 0x7ff906212220>"
      ]
     },
     "execution_count": 38,
     "metadata": {},
     "output_type": "execute_result"
    },
    {
     "data": {
      "image/png": "[encoded data removed]",
      "text/plain": [
       "<Figure size 432x288 with 1 Axes>"
      ]
     },
     "metadata": {
      "needs_background": "light"
     },
     "output_type": "display_data"
    }
   ],
   "source": [
    "plt.scatter(treshs,ress)"
   ]
  },
  {
   "cell_type": "code",
   "execution_count": 75,
   "metadata": {},
   "outputs": [
    {
     "data": {
      "text/plain": [
       "<matplotlib.collections.PathCollection at 0x7f66195a1460>"
      ]
     },
     "execution_count": 75,
     "metadata": {},
     "output_type": "execute_result"
    },
    {
     "data": {
      "image/png": "[encoded data removed]",
      "text/plain": [
       "<Figure size 432x288 with 1 Axes>"
      ]
     },
     "metadata": {
      "needs_background": "light"
     },
     "output_type": "display_data"
    }
   ],
   "source": [
    "plt.scatter(treshs,ress)"
   ]
  },
  {
   "cell_type": "code",
   "execution_count": 59,
   "metadata": {},
   "outputs": [],
   "source": [
    "pred_tresh = (preds_OOF_1d>0.46).astype(int)"
   ]
  },
  {
   "cell_type": "code",
   "execution_count": 60,
   "metadata": {},
   "outputs": [
    {
     "data": {
      "text/plain": [
       "0.11154565550076517"
      ]
     },
     "execution_count": 60,
     "metadata": {},
     "output_type": "execute_result"
    }
   ],
   "source": [
    "mean_absolute_error(y_true_00F_1d,pred_tresh)"
   ]
  },
  {
   "cell_type": "code",
   "execution_count": null,
   "metadata": {},
   "outputs": [],
   "source": []
  },
  {
   "cell_type": "code",
   "execution_count": 61,
   "metadata": {},
   "outputs": [
    {
     "data": {
      "image/png": "[encoded data removed]",
      "text/plain": [
       "<Figure size 432x288 with 1 Axes>"
      ]
     },
     "metadata": {
      "needs_background": "light"
     },
     "output_type": "display_data"
    }
   ],
   "source": [
    "plt.hist(preds_OOF_1d);"
   ]
  },
  {
   "cell_type": "code",
   "execution_count": 62,
   "metadata": {},
   "outputs": [],
   "source": [
    "pred_final = pred_final_sum/5"
   ]
  },
  {
   "cell_type": "code",
   "execution_count": 63,
   "metadata": {},
   "outputs": [
    {
     "data": {
      "text/plain": [
       "(10086, 39)"
      ]
     },
     "execution_count": 63,
     "metadata": {},
     "output_type": "execute_result"
    }
   ],
   "source": [
    "processed_test.shape"
   ]
  },
  {
   "cell_type": "code",
   "execution_count": 81,
   "metadata": {},
   "outputs": [
    {
     "data": {
      "image/png": "[encoded data removed]",
      "text/plain": [
       "<Figure size 432x288 with 1 Axes>"
      ]
     },
     "metadata": {
      "needs_background": "light"
     },
     "output_type": "display_data"
    }
   ],
   "source": [
    "plt.hist(pred_final);"
   ]
  },
  {
   "cell_type": "code",
   "execution_count": 65,
   "metadata": {},
   "outputs": [],
   "source": [
    "pred_final_tresh = (pred_final>0.46).astype(int)"
   ]
  },
  {
   "cell_type": "markdown",
   "metadata": {},
   "source": [
    "### Submission"
   ]
  },
  {
   "cell_type": "code",
   "execution_count": null,
   "metadata": {},
   "outputs": [],
   "source": [
    "### We use the thres 0.46, but it is different for our first MLP submission "
   ]
  },
  {
   "cell_type": "code",
   "execution_count": 66,
   "metadata": {
    "id": "ELYl_OMUqRhR"
   },
   "outputs": [],
   "source": [
    "# Create submission DataFrame\n",
    "submission = pd.DataFrame({\"uniqueid\": test[\"uniqueid\"] + \" x \" + test[\"country\"],\n",
    "                           \"bank_account\": pred_final_tresh})"
   ]
  },
  {
   "cell_type": "code",
   "execution_count": 67,
   "metadata": {},
   "outputs": [],
   "source": [
    "submission_raw = pd.DataFrame({\"uniqueid\": test[\"uniqueid\"] + \" x \" + test[\"country\"],\n",
    "                           \"bank_account\": pred_final})"
   ]
  },
  {
   "cell_type": "markdown",
   "metadata": {
    "id": "KWsK-dHOqcIB"
   },
   "source": [
    "Let’s observe the sample results from our submission DataFrame.\n"
   ]
  },
  {
   "cell_type": "code",
   "execution_count": 68,
   "metadata": {
    "colab": {
     "base_uri": "https://localhost:8080/",
     "height": 206
    },
    "id": "VHhKw7ceqdD2",
    "outputId": "90eb4eab-a985-485a-98df-5f8aa8a19851"
   },
   "outputs": [
    {
     "data": {
      "text/html": [
       "<div>\n",
       "<style scoped>\n",
       "    .dataframe tbody tr th:only-of-type {\n",
       "        vertical-align: middle;\n",
       "    }\n",
       "\n",
       "    .dataframe tbody tr th {\n",
       "        vertical-align: top;\n",
       "    }\n",
       "\n",
       "    .dataframe thead th {\n",
       "        text-align: right;\n",
       "    }\n",
       "</style>\n",
       "<table border=\"1\" class=\"dataframe\">\n",
       "  <thead>\n",
       "    <tr style=\"text-align: right;\">\n",
       "      <th></th>\n",
       "      <th>uniqueid</th>\n",
       "      <th>bank_account</th>\n",
       "    </tr>\n",
       "  </thead>\n",
       "  <tbody>\n",
       "    <tr>\n",
       "      <th>4657</th>\n",
       "      <td>uniqueid_10792 x Rwanda</td>\n",
       "      <td>0</td>\n",
       "    </tr>\n",
       "    <tr>\n",
       "      <th>7770</th>\n",
       "      <td>uniqueid_8045 x Tanzania</td>\n",
       "      <td>0</td>\n",
       "    </tr>\n",
       "    <tr>\n",
       "      <th>3787</th>\n",
       "      <td>uniqueid_9922 x Rwanda</td>\n",
       "      <td>0</td>\n",
       "    </tr>\n",
       "    <tr>\n",
       "      <th>8108</th>\n",
       "      <td>uniqueid_8383 x Tanzania</td>\n",
       "      <td>0</td>\n",
       "    </tr>\n",
       "    <tr>\n",
       "      <th>9619</th>\n",
       "      <td>uniqueid_2536 x Uganda</td>\n",
       "      <td>0</td>\n",
       "    </tr>\n",
       "  </tbody>\n",
       "</table>\n",
       "</div>"
      ],
      "text/plain": [
       "                      uniqueid  bank_account\n",
       "4657   uniqueid_10792 x Rwanda             0\n",
       "7770  uniqueid_8045 x Tanzania             0\n",
       "3787    uniqueid_9922 x Rwanda             0\n",
       "8108  uniqueid_8383 x Tanzania             0\n",
       "9619    uniqueid_2536 x Uganda             0"
      ]
     },
     "execution_count": 68,
     "metadata": {},
     "output_type": "execute_result"
    }
   ],
   "source": [
    "#show the five sample\n",
    "submission.sample(5)"
   ]
  },
  {
   "cell_type": "markdown",
   "metadata": {
    "id": "CcOeN6Nkqkkw"
   },
   "source": [
    "Save results in the CSV file.\n"
   ]
  },
  {
   "cell_type": "code",
   "execution_count": 69,
   "metadata": {
    "colab": {
     "base_uri": "https://localhost:8080/",
     "height": 17
    },
    "id": "FzEYLNpDqjL-",
    "outputId": "1d37b510-2845-4ada-82d4-aeff7c8b1973"
   },
   "outputs": [],
   "source": [
    "# Create submission csv file csv file\n",
    "submission.to_csv('Submissions/MLP2_CV_Tresh_bis.csv', index = False)"
   ]
  },
  {
   "cell_type": "code",
   "execution_count": 70,
   "metadata": {},
   "outputs": [],
   "source": [
    "# Create submission csv file csv file\n",
    "submission_raw.to_csv('Submissions/MLP2_CV_Tresh_bis_raw.csv', index = False)"
   ]
  },
  {
   "cell_type": "code",
   "execution_count": null,
   "metadata": {},
   "outputs": [],
   "source": []
  }
 ],
 "metadata": {
  "colab": {
   "collapsed_sections": [],
   "name": "StarterNotebook.ipynb",
   "provenance": [],
   "toc_visible": true
  },
  "kernelspec": {
   "display_name": "Python 3 (ipykernel)",
   "language": "python",
   "name": "python3"
  },
  "language_info": {
   "codemirror_mode": {
    "name": "ipython",
    "version": 3
   },
   "file_extension": ".py",
   "mimetype": "text/x-python",
   "name": "python",
   "nbconvert_exporter": "python",
   "pygments_lexer": "ipython3",
   "version": "3.9.12"
  }
 },
 "nbformat": 4,
 "nbformat_minor": 4
}
